{
 "cells": [
  {
   "cell_type": "code",
   "execution_count": 1,
   "metadata": {},
   "outputs": [],
   "source": [
    "import spacy\n",
    "from spacy.util import minibatch\n",
    "import random\n",
    "import torch\n",
    "from tqdm import tqdm\n",
    "import pandas as pd"
   ]
  },
  {
   "cell_type": "code",
   "execution_count": 2,
   "metadata": {},
   "outputs": [
    {
     "data": {
      "text/plain": [
       "'2.2.3'"
      ]
     },
     "execution_count": 2,
     "metadata": {},
     "output_type": "execute_result"
    }
   ],
   "source": [
    "spacy.__version__"
   ]
  },
  {
   "cell_type": "code",
   "execution_count": 3,
   "metadata": {},
   "outputs": [
    {
     "data": {
      "text/html": [
       "<div>\n",
       "<style scoped>\n",
       "    .dataframe tbody tr th:only-of-type {\n",
       "        vertical-align: middle;\n",
       "    }\n",
       "\n",
       "    .dataframe tbody tr th {\n",
       "        vertical-align: top;\n",
       "    }\n",
       "\n",
       "    .dataframe thead th {\n",
       "        text-align: right;\n",
       "    }\n",
       "</style>\n",
       "<table border=\"1\" class=\"dataframe\">\n",
       "  <thead>\n",
       "    <tr style=\"text-align: right;\">\n",
       "      <th></th>\n",
       "      <th>text</th>\n",
       "      <th>label</th>\n",
       "    </tr>\n",
       "  </thead>\n",
       "  <tbody>\n",
       "    <tr>\n",
       "      <th>0</th>\n",
       "      <td>rCriticalSection &amp; rSemaphore removed     ...</td>\n",
       "      <td>1</td>\n",
       "    </tr>\n",
       "    <tr>\n",
       "      <th>1</th>\n",
       "      <td>[ALSA] Improve SPDIF playback via the P16V...</td>\n",
       "      <td>0</td>\n",
       "    </tr>\n",
       "    <tr>\n",
       "      <th>2</th>\n",
       "      <td>KVM: Change the emulator_{read write cmpxc...</td>\n",
       "      <td>0</td>\n",
       "    </tr>\n",
       "    <tr>\n",
       "      <th>3</th>\n",
       "      <td>Bump test projects up to .NET 4.5.2     - ...</td>\n",
       "      <td>0</td>\n",
       "    </tr>\n",
       "    <tr>\n",
       "      <th>4</th>\n",
       "      <td>Update proto name to fix Windows portabili...</td>\n",
       "      <td>1</td>\n",
       "    </tr>\n",
       "  </tbody>\n",
       "</table>\n",
       "</div>"
      ],
      "text/plain": [
       "                                                text  label\n",
       "0      rCriticalSection & rSemaphore removed     ...      1\n",
       "1      [ALSA] Improve SPDIF playback via the P16V...      0\n",
       "2      KVM: Change the emulator_{read write cmpxc...      0\n",
       "3      Bump test projects up to .NET 4.5.2     - ...      0\n",
       "4      Update proto name to fix Windows portabili...      1"
      ]
     },
     "execution_count": 3,
     "metadata": {},
     "output_type": "execute_result"
    }
   ],
   "source": [
    "train_df=pd.read_csv('dataset/train.csv')\n",
    "train_df.head()"
   ]
  },
  {
   "cell_type": "code",
   "execution_count": 4,
   "metadata": {},
   "outputs": [
    {
     "data": {
      "text/plain": [
       "False"
      ]
     },
     "execution_count": 4,
     "metadata": {},
     "output_type": "execute_result"
    }
   ],
   "source": [
    "is_using_gpu = spacy.prefer_gpu()\n",
    "if is_using_gpu:\n",
    "    torch.set_default_tensor_type(\"torch.cuda.FloatTensor\")\n",
    "is_using_gpu"
   ]
  },
  {
   "cell_type": "code",
   "execution_count": 5,
   "metadata": {},
   "outputs": [],
   "source": [
    "def create_dataset(df):\n",
    "    dataset=[]\n",
    "    for i in df.itertuples():\n",
    "        if i.label==1:\n",
    "            dataset.append((i.text,{\"cats\":{\"BugFix\": 1.0, \"NotBugFix\": 0.0}}))\n",
    "        else:\n",
    "            dataset.append((i.text,{\"cats\":{\"BugFix\": 0.0, \"NotBugFix\": 1.0}}))\n",
    "    return dataset"
   ]
  },
  {
   "cell_type": "code",
   "execution_count": 6,
   "metadata": {},
   "outputs": [
    {
     "name": "stderr",
     "output_type": "stream",
     "text": [
      "I0101 15:54:14.536913 140125099353920 file_utils.py:39] PyTorch version 1.3.0 available.\n",
      "I0101 15:54:15.604322 140125099353920 modeling_xlnet.py:194] Better speed can be achieved with apex installed from https://www.github.com/nvidia/apex .\n"
     ]
    },
    {
     "name": "stdout",
     "output_type": "stream",
     "text": [
      "['sentencizer', 'trf_wordpiecer', 'trf_tok2vec']\n"
     ]
    }
   ],
   "source": [
    "nlp = spacy.load(\"en_trf_distilbertbaseuncased_lg\")\n",
    "print(nlp.pipe_names) # [\"sentencizer\", \"trf_wordpiecer\", \"trf_tok2vec\"]\n",
    "textcat = nlp.create_pipe(\"trf_textcat\", config={\"exclusive_classes\": False})"
   ]
  },
  {
   "cell_type": "code",
   "execution_count": 7,
   "metadata": {},
   "outputs": [],
   "source": [
    "for label in [\"BugFix\",\"NotBugFix\"]:\n",
    "    textcat.add_label(label)\n",
    "nlp.add_pipe(textcat)"
   ]
  },
  {
   "cell_type": "code",
   "execution_count": 8,
   "metadata": {},
   "outputs": [
    {
     "data": {
      "text/plain": [
       "228.875"
      ]
     },
     "execution_count": 8,
     "metadata": {},
     "output_type": "execute_result"
    }
   ],
   "source": [
    "TRAIN_DATA=create_dataset(train_df)\n",
    "batch_size=8\n",
    "learn_rate=2e-5\n",
    "len(TRAIN_DATA)/batch_size"
   ]
  },
  {
   "cell_type": "code",
   "execution_count": 9,
   "metadata": {},
   "outputs": [],
   "source": [
    "def lr_rate():\n",
    "    while True:\n",
    "        yield 2e-5"
   ]
  },
  {
   "cell_type": "code",
   "execution_count": 10,
   "metadata": {},
   "outputs": [],
   "source": [
    "optimizer = nlp.resume_training()\n",
    "optimizer.trf_lr = next(lr_rate())"
   ]
  },
  {
   "cell_type": "code",
   "execution_count": 32,
   "metadata": {
    "scrolled": true
   },
   "outputs": [
    {
     "name": "stderr",
     "output_type": "stream",
     "text": [
      "  0%|          | 0/1 [00:00<?, ?it/s]\n",
      "0it [00:00, ?it/s]\u001b[A\n",
      "1it [00:06,  6.63s/it]\u001b[A\n",
      "2it [00:09,  5.60s/it]\u001b[A\n",
      "3it [00:14,  5.45s/it]\u001b[A\n",
      "4it [00:25,  6.97s/it]\u001b[A\n",
      "5it [00:34,  7.74s/it]\u001b[A\n",
      "6it [00:44,  8.41s/it]\u001b[A\n",
      "7it [00:48,  6.96s/it]\u001b[A\n",
      "8it [00:57,  7.46s/it]\u001b[A\n",
      "9it [01:01,  6.66s/it]\u001b[A\n",
      "10it [01:12,  7.80s/it]\u001b[A\n",
      "11it [01:18,  7.32s/it]\u001b[A\n",
      "12it [01:27,  7.85s/it]\u001b[A\n",
      "13it [01:36,  8.24s/it]\u001b[A\n",
      "14it [01:42,  7.58s/it]\u001b[A\n",
      "15it [01:51,  7.76s/it]\u001b[A\n",
      "16it [02:02,  8.96s/it]\u001b[A\n",
      "17it [02:13,  9.40s/it]\u001b[A\n",
      "18it [02:22,  9.25s/it]\u001b[A\n",
      "19it [02:36, 10.64s/it]\u001b[A\n",
      "20it [02:40,  8.78s/it]\u001b[A\n",
      "21it [02:51,  9.58s/it]\u001b[A\n",
      "22it [02:59,  8.84s/it]\u001b[A\n",
      "23it [03:08,  9.09s/it]\u001b[A\n",
      "24it [03:21, 10.11s/it]\u001b[A\n",
      "25it [03:27,  9.02s/it]\u001b[A\n",
      "26it [03:36,  9.07s/it]\u001b[A\n",
      "27it [03:40,  7.58s/it]\u001b[A\n",
      "28it [03:51,  8.58s/it]\u001b[A\n",
      "29it [03:55,  7.05s/it]\u001b[A\n",
      "30it [04:06,  8.20s/it]\u001b[A\n",
      "31it [04:18,  9.27s/it]\u001b[A\n",
      "32it [04:30, 10.29s/it]\u001b[A\n",
      "33it [04:41, 10.42s/it]\u001b[A\n",
      "34it [04:47,  9.22s/it]\u001b[A\n",
      "35it [04:53,  8.16s/it]\u001b[A\n",
      "36it [04:57,  6.87s/it]\u001b[A\n",
      "37it [05:11,  9.09s/it]\u001b[A\n",
      "38it [05:19,  8.62s/it]\u001b[A\n",
      "39it [05:30,  9.42s/it]\u001b[A\n",
      "40it [05:34,  7.92s/it]\u001b[A\n",
      "41it [05:41,  7.62s/it]\u001b[A\n",
      "42it [05:55,  9.49s/it]\u001b[A\n",
      "43it [06:03,  9.00s/it]\u001b[A\n",
      "44it [06:12,  9.13s/it]\u001b[A\n",
      "45it [06:17,  7.71s/it]\u001b[A\n",
      "46it [06:29,  8.97s/it]\u001b[A\n",
      "47it [06:37,  8.90s/it]\u001b[A\n",
      "48it [06:45,  8.47s/it]\u001b[A\n",
      "49it [06:53,  8.42s/it]\u001b[A\n",
      "50it [06:59,  7.49s/it]\u001b[A\n",
      "51it [07:11,  8.86s/it]\u001b[A\n",
      "52it [07:16,  7.67s/it]\u001b[A\n",
      "53it [07:20,  6.83s/it]\u001b[A\n",
      "54it [07:34,  8.93s/it]\u001b[A\n",
      "55it [07:39,  7.75s/it]\u001b[A\n",
      "56it [07:53,  9.59s/it]\u001b[A\n",
      "57it [08:00,  8.69s/it]\u001b[A\n",
      "58it [08:08,  8.48s/it]\u001b[A\n",
      "59it [08:16,  8.47s/it]\u001b[A\n",
      "60it [08:23,  7.96s/it]\u001b[A\n",
      "61it [08:30,  7.78s/it]\u001b[A\n",
      "62it [08:38,  7.75s/it]\u001b[A\n",
      "63it [08:42,  6.68s/it]\u001b[A\n",
      "64it [08:52,  7.67s/it]\u001b[A\n",
      "65it [08:57,  6.74s/it]\u001b[A\n",
      "66it [09:00,  5.61s/it]\u001b[A\n",
      "67it [09:04,  5.36s/it]\u001b[A\n",
      "68it [09:07,  4.64s/it]\u001b[A\n",
      "69it [09:13,  4.96s/it]\u001b[A\n",
      "70it [09:17,  4.72s/it]\u001b[A\n",
      "71it [09:27,  6.20s/it]\u001b[A\n",
      "72it [09:34,  6.54s/it]\u001b[A\n",
      "73it [09:38,  5.84s/it]\u001b[A\n",
      "74it [09:42,  5.09s/it]\u001b[A\n",
      "75it [09:44,  4.25s/it]\u001b[A\n",
      "76it [09:48,  4.10s/it]\u001b[A\n",
      "77it [09:50,  3.55s/it]\u001b[A\n",
      "78it [09:55,  4.05s/it]\u001b[A\n",
      "79it [09:59,  3.83s/it]\u001b[A\n",
      "80it [10:05,  4.59s/it]\u001b[A\n",
      "81it [10:11,  4.96s/it]\u001b[A\n",
      "82it [10:15,  4.77s/it]\u001b[A\n",
      "83it [10:20,  4.85s/it]\u001b[A\n",
      "84it [10:27,  5.35s/it]\u001b[A\n",
      "85it [10:32,  5.21s/it]\u001b[A\n",
      "86it [10:37,  5.43s/it]\u001b[A\n",
      "87it [10:45,  6.02s/it]\u001b[A\n",
      "88it [10:50,  5.85s/it]\u001b[A\n",
      "89it [10:54,  5.26s/it]\u001b[A\n",
      "90it [10:58,  4.77s/it]\u001b[A\n",
      "91it [11:02,  4.50s/it]\u001b[A\n",
      "92it [11:05,  4.20s/it]\u001b[A\n",
      "93it [11:12,  5.00s/it]\u001b[A\n",
      "94it [11:21,  6.17s/it]\u001b[A\n",
      "95it [11:27,  6.12s/it]\u001b[A\n",
      "96it [11:31,  5.58s/it]\u001b[A\n",
      "97it [11:38,  5.95s/it]\u001b[A\n",
      "98it [11:42,  5.19s/it]\u001b[A\n",
      "99it [11:44,  4.48s/it]\u001b[A\n",
      "100it [11:50,  4.79s/it]\u001b[A\n",
      "101it [11:55,  4.80s/it]\u001b[A\n",
      "102it [11:59,  4.70s/it]\u001b[A\n",
      "103it [12:09,  6.32s/it]\u001b[A\n",
      "104it [12:16,  6.37s/it]\u001b[A\n",
      "105it [12:19,  5.48s/it]\u001b[A\n",
      "106it [12:22,  4.64s/it]\u001b[A\n",
      "107it [12:27,  4.70s/it]\u001b[A\n",
      "108it [12:33,  5.21s/it]\u001b[A\n",
      "109it [12:38,  5.17s/it]\u001b[A\n",
      "110it [12:43,  5.10s/it]\u001b[A\n",
      "111it [12:49,  5.32s/it]\u001b[A\n",
      "112it [12:55,  5.51s/it]\u001b[A\n",
      "113it [13:02,  6.12s/it]\u001b[A\n",
      "114it [13:07,  5.53s/it]\u001b[A\n",
      "115it [13:09,  4.45s/it]\u001b[A\n",
      "116it [13:14,  4.90s/it]\u001b[A\n",
      "117it [13:19,  4.78s/it]\u001b[A\n",
      "118it [13:24,  4.74s/it]\u001b[A\n",
      "119it [13:27,  4.18s/it]\u001b[A\n",
      "120it [13:32,  4.63s/it]\u001b[A\n",
      "121it [13:36,  4.27s/it]\u001b[A\n",
      "122it [13:41,  4.71s/it]\u001b[A\n",
      "123it [13:49,  5.56s/it]\u001b[A\n",
      "124it [13:58,  6.56s/it]\u001b[A\n",
      "125it [14:06,  7.12s/it]\u001b[A\n",
      "126it [14:11,  6.39s/it]\u001b[A\n",
      "127it [14:20,  7.24s/it]\u001b[A\n",
      "128it [14:30,  8.14s/it]\u001b[A\n",
      "129it [14:34,  6.93s/it]\u001b[A\n",
      "130it [14:42,  7.00s/it]\u001b[A\n",
      "131it [14:50,  7.43s/it]\u001b[A\n",
      "132it [14:57,  7.14s/it]\u001b[A\n",
      "133it [15:03,  7.09s/it]\u001b[A\n",
      "134it [15:08,  6.22s/it]\u001b[A\n",
      "135it [15:19,  7.85s/it]\u001b[A\n",
      "136it [15:26,  7.42s/it]\u001b[A\n",
      "137it [15:35,  8.11s/it]\u001b[A\n",
      "138it [15:38,  6.57s/it]\u001b[A\n",
      "139it [15:42,  5.59s/it]\u001b[A\n",
      "140it [15:46,  5.32s/it]\u001b[A\n",
      "141it [15:58,  7.13s/it]\u001b[A\n",
      "142it [16:01,  5.90s/it]\u001b[A\n",
      "143it [16:05,  5.34s/it]\u001b[A\n",
      "144it [16:12,  5.78s/it]\u001b[A\n",
      "145it [16:17,  5.59s/it]\u001b[A\n",
      "146it [16:23,  5.71s/it]\u001b[A\n",
      "147it [16:34,  7.30s/it]\u001b[A\n",
      "148it [16:41,  7.12s/it]\u001b[A\n",
      "149it [16:45,  6.24s/it]\u001b[A\n",
      "150it [16:50,  6.03s/it]\u001b[A\n",
      "151it [16:54,  5.45s/it]\u001b[A\n",
      "152it [17:01,  5.85s/it]\u001b[A\n",
      "153it [17:05,  5.20s/it]\u001b[A\n",
      "154it [17:09,  4.76s/it]\u001b[A\n",
      "155it [17:17,  5.88s/it]\u001b[A\n",
      "156it [17:23,  6.01s/it]\u001b[A\n",
      "157it [17:29,  6.01s/it]\u001b[A\n",
      "158it [17:36,  6.20s/it]\u001b[A\n",
      "159it [17:39,  5.12s/it]\u001b[A\n",
      "160it [17:45,  5.36s/it]\u001b[A\n",
      "161it [17:51,  5.67s/it]\u001b[A\n",
      "162it [17:54,  4.89s/it]\u001b[A\n",
      "163it [17:59,  5.06s/it]\u001b[A\n",
      "164it [18:04,  5.01s/it]\u001b[A\n",
      "165it [18:10,  5.10s/it]\u001b[A\n",
      "166it [18:12,  4.42s/it]\u001b[A\n",
      "167it [18:16,  4.23s/it]\u001b[A\n",
      "168it [18:19,  3.76s/it]\u001b[A\n",
      "169it [18:25,  4.32s/it]\u001b[A\n",
      "170it [18:30,  4.73s/it]\u001b[A\n",
      "171it [18:34,  4.39s/it]\u001b[A\n",
      "172it [18:41,  5.18s/it]\u001b[A\n",
      "173it [18:49,  6.17s/it]\u001b[A\n",
      "174it [18:56,  6.43s/it]\u001b[A\n",
      "175it [19:00,  5.57s/it]\u001b[A\n",
      "176it [19:05,  5.34s/it]\u001b[A\n",
      "177it [19:09,  5.02s/it]\u001b[A\n",
      "178it [19:12,  4.36s/it]\u001b[A\n",
      "179it [19:18,  4.84s/it]\u001b[A\n",
      "180it [19:23,  4.92s/it]\u001b[A\n",
      "181it [19:26,  4.27s/it]\u001b[A\n",
      "182it [19:31,  4.45s/it]\u001b[A\n",
      "183it [19:35,  4.60s/it]\u001b[A\n",
      "184it [19:42,  5.16s/it]\u001b[A\n",
      "185it [19:51,  6.45s/it]\u001b[A\n",
      "186it [19:54,  5.36s/it]\u001b[A\n",
      "187it [19:59,  5.32s/it]\u001b[A\n",
      "188it [20:04,  5.18s/it]\u001b[A\n",
      "189it [20:07,  4.39s/it]\u001b[A\n",
      "190it [20:15,  5.63s/it]\u001b[A\n",
      "191it [20:19,  5.09s/it]\u001b[A\n",
      "192it [20:28,  6.07s/it]\u001b[A\n",
      "193it [20:36,  6.73s/it]\u001b[A\n",
      "194it [20:40,  5.91s/it]\u001b[A\n",
      "195it [20:46,  5.88s/it]\u001b[A\n",
      "196it [20:48,  4.94s/it]\u001b[A\n",
      "197it [20:51,  4.31s/it]\u001b[A\n",
      "198it [20:55,  4.25s/it]\u001b[A\n",
      "199it [21:00,  4.50s/it]\u001b[A\n",
      "200it [21:03,  3.86s/it]\u001b[A\n",
      "201it [21:10,  4.94s/it]\u001b[A\n",
      "202it [21:19,  5.98s/it]\u001b[A\n",
      "203it [21:21,  4.82s/it]\u001b[A\n",
      "204it [21:27,  5.16s/it]\u001b[A\n",
      "205it [21:30,  4.65s/it]\u001b[A\n",
      "206it [21:39,  5.82s/it]\u001b[A\n",
      "207it [21:44,  5.56s/it]\u001b[A\n",
      "208it [21:50,  5.72s/it]\u001b[A\n",
      "209it [21:57,  6.09s/it]\u001b[A\n",
      "210it [22:02,  5.82s/it]\u001b[A\n",
      "211it [22:13,  7.51s/it]\u001b[A\n",
      "212it [22:17,  6.49s/it]\u001b[A\n",
      "213it [22:21,  5.54s/it]\u001b[A\n",
      "214it [22:28,  5.94s/it]\u001b[A\n",
      "215it [22:34,  6.14s/it]\u001b[A\n",
      "216it [22:45,  7.61s/it]\u001b[A\n",
      "217it [22:48,  6.10s/it]\u001b[A\n",
      "218it [22:53,  5.76s/it]\u001b[A\n",
      "219it [23:02,  6.74s/it]\u001b[A\n",
      "220it [23:10,  7.30s/it]\u001b[A\n",
      "221it [23:13,  5.97s/it]\u001b[A\n",
      "222it [23:21,  6.43s/it]\u001b[A\n",
      "223it [23:26,  6.13s/it]\u001b[A\n",
      "224it [23:32,  6.02s/it]\u001b[A\n",
      "225it [23:37,  5.73s/it]\u001b[A\n",
      "226it [23:45,  6.31s/it]\u001b[A\n",
      "227it [23:50,  6.11s/it]\u001b[A\n",
      "228it [23:56,  6.00s/it]\u001b[A\n",
      "229it [24:02,  6.30s/it]\u001b[A\n",
      "100%|██████████| 1/1 [24:02<00:00, 1442.30s/it]"
     ]
    },
    {
     "name": "stdout",
     "output_type": "stream",
     "text": [
      "0 {'trf_textcat': 0.15650997367637803}\n"
     ]
    },
    {
     "name": "stderr",
     "output_type": "stream",
     "text": [
      "\n"
     ]
    }
   ],
   "source": [
    "#number of epochs\n",
    "#4\n",
    "for i in tqdm(range(4)):\n",
    "    random.shuffle(TRAIN_DATA)\n",
    "    losses = {}\n",
    "    for batch in tqdm(minibatch(TRAIN_DATA, size=8)):\n",
    "        texts, cats = zip(*batch)\n",
    "        nlp.update(texts, cats, sgd=optimizer, losses=losses)\n",
    "    print(i, losses)"
   ]
  },
  {
   "cell_type": "code",
   "execution_count": 11,
   "metadata": {},
   "outputs": [
    {
     "data": {
      "text/plain": [
       "<spacy_transformers.language.TransformersLanguage at 0x7f712af46978>"
      ]
     },
     "execution_count": 11,
     "metadata": {},
     "output_type": "execute_result"
    }
   ],
   "source": [
    "nlp.from_disk(\"distilbert-textcat\")"
   ]
  },
  {
   "cell_type": "code",
   "execution_count": 12,
   "metadata": {},
   "outputs": [],
   "source": [
    "def evaluate(df):\n",
    "    tp,fp,tn,fn=0,0,0,0\n",
    "    for i in tqdm(df.itertuples()):\n",
    "        doc=nlp(i.text)\n",
    "        if i.label==1 and (doc.cats['BugFix']>doc.cats['NotBugFix']):\n",
    "            tp+=1\n",
    "        if i.label==0 and (doc.cats['NotBugFix']>doc.cats['BugFix']):\n",
    "            tn+=1\n",
    "        if i.label==0 and (doc.cats['BugFix']>doc.cats['NotBugFix']):\n",
    "            fp+=1\n",
    "        if i.label==1 and (doc.cats['NotBugFix']>doc.cats['BugFix']):\n",
    "            fn+=1\n",
    "    return tp,fp,tn,fn"
   ]
  },
  {
   "cell_type": "code",
   "execution_count": 13,
   "metadata": {
    "scrolled": true
   },
   "outputs": [
    {
     "name": "stderr",
     "output_type": "stream",
     "text": [
      "324it [00:14, 22.57it/s]"
     ]
    },
    {
     "name": "stdout",
     "output_type": "stream",
     "text": [
      "98 25 192 9\n",
      "0.8950617283950617\n"
     ]
    },
    {
     "name": "stderr",
     "output_type": "stream",
     "text": [
      "\n"
     ]
    }
   ],
   "source": [
    "eval_df=pd.read_csv('dataset/test.csv')\n",
    "tp,fp,tn,fn=evaluate(eval_df)\n",
    "print(tp,fp,tn,fn)\n",
    "print((tp+tn)/(tp+tn+fp+fn))"
   ]
  },
  {
   "cell_type": "code",
   "execution_count": 14,
   "metadata": {},
   "outputs": [
    {
     "name": "stderr",
     "output_type": "stream",
     "text": [
      "1151it [00:43, 26.33it/s]"
     ]
    },
    {
     "name": "stdout",
     "output_type": "stream",
     "text": [
      "294 36 615 206\n",
      "0.789748045178106\n"
     ]
    },
    {
     "name": "stderr",
     "output_type": "stream",
     "text": [
      "\n"
     ]
    }
   ],
   "source": [
    "eval_df=pd.read_csv('dataset/levin et al.csv')\n",
    "tp,fp,tn,fn=evaluate(eval_df)\n",
    "print(tp,fp,tn,fn)\n",
    "print((tp+tn)/(tp+tn+fp+fn))"
   ]
  },
  {
   "cell_type": "code",
   "execution_count": 15,
   "metadata": {},
   "outputs": [
    {
     "name": "stderr",
     "output_type": "stream",
     "text": [
      "375it [00:12, 30.53it/s]"
     ]
    },
    {
     "name": "stdout",
     "output_type": "stream",
     "text": [
      "114 39 196 26\n",
      "0.8266666666666667\n"
     ]
    },
    {
     "name": "stderr",
     "output_type": "stream",
     "text": [
      "\n"
     ]
    }
   ],
   "source": [
    "eval_df=pd.read_csv('dataset/berger et al.csv')\n",
    "tp,fp,tn,fn=evaluate(eval_df)\n",
    "print(tp,fp,tn,fn)\n",
    "print((tp+tn)/(tp+tn+fp+fn))"
   ]
  },
  {
   "cell_type": "code",
   "execution_count": 16,
   "metadata": {},
   "outputs": [
    {
     "name": "stderr",
     "output_type": "stream",
     "text": [
      "271it [00:09, 28.86it/s]"
     ]
    },
    {
     "name": "stdout",
     "output_type": "stream",
     "text": [
      "83 16 165 7\n",
      "0.915129151291513\n"
     ]
    },
    {
     "name": "stderr",
     "output_type": "stream",
     "text": [
      "\n"
     ]
    }
   ],
   "source": [
    "eval_df=pd.read_csv('dataset/berger et al subset.csv')\n",
    "tp,fp,tn,fn=evaluate(eval_df)\n",
    "print(tp,fp,tn,fn)\n",
    "print((tp+tn)/(tp+tn+fp+fn))"
   ]
  }
 ],
 "metadata": {
  "kernelspec": {
   "display_name": "Python 3",
   "language": "python",
   "name": "python3"
  },
  "language_info": {
   "codemirror_mode": {
    "name": "ipython",
    "version": 3
   },
   "file_extension": ".py",
   "mimetype": "text/x-python",
   "name": "python",
   "nbconvert_exporter": "python",
   "pygments_lexer": "ipython3",
   "version": "3.7.3"
  }
 },
 "nbformat": 4,
 "nbformat_minor": 4
}
