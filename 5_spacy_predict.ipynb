{
 "cells": [
  {
   "cell_type": "code",
   "execution_count": 0,
   "metadata": {
    "colab": {
     "base_uri": "https://localhost:8080/",
     "height": 306
    },
    "colab_type": "code",
    "id": "eSMs1zv4jpSf",
    "outputId": "97e776c5-0214-4ec2-bf7f-3e5c0bc3c26b"
   },
   "outputs": [
    {
     "name": "stdout",
     "output_type": "stream",
     "text": [
      "Mon Dec 16 04:33:26 2019       \n",
      "+-----------------------------------------------------------------------------+\n",
      "| NVIDIA-SMI 440.44       Driver Version: 418.67       CUDA Version: 10.1     |\n",
      "|-------------------------------+----------------------+----------------------+\n",
      "| GPU  Name        Persistence-M| Bus-Id        Disp.A | Volatile Uncorr. ECC |\n",
      "| Fan  Temp  Perf  Pwr:Usage/Cap|         Memory-Usage | GPU-Util  Compute M. |\n",
      "|===============================+======================+======================|\n",
      "|   0  Tesla P100-PCIE...  Off  | 00000000:00:04.0 Off |                    0 |\n",
      "| N/A   32C    P0    26W / 250W |      0MiB / 16280MiB |      0%      Default |\n",
      "+-------------------------------+----------------------+----------------------+\n",
      "                                                                               \n",
      "+-----------------------------------------------------------------------------+\n",
      "| Processes:                                                       GPU Memory |\n",
      "|  GPU       PID   Type   Process name                             Usage      |\n",
      "|=============================================================================|\n",
      "|  No running processes found                                                 |\n",
      "+-----------------------------------------------------------------------------+\n"
     ]
    }
   ],
   "source": [
    "!nvidia-smi"
   ]
  },
  {
   "cell_type": "code",
   "execution_count": 0,
   "metadata": {
    "colab": {
     "base_uri": "https://localhost:8080/",
     "height": 1000
    },
    "colab_type": "code",
    "id": "bGWO5yPYjtDk",
    "outputId": "1ef9d053-b3c4-4af0-b5df-9b50da667888"
   },
   "outputs": [
    {
     "name": "stdout",
     "output_type": "stream",
     "text": [
      "Requirement already up-to-date: spacy[cuda100] in /usr/local/lib/python3.6/dist-packages (2.2.3)\n",
      "Requirement already satisfied, skipping upgrade: murmurhash<1.1.0,>=0.28.0 in /usr/local/lib/python3.6/dist-packages (from spacy[cuda100]) (1.0.2)\n",
      "Requirement already satisfied, skipping upgrade: plac<1.2.0,>=0.9.6 in /usr/local/lib/python3.6/dist-packages (from spacy[cuda100]) (0.9.6)\n",
      "Requirement already satisfied, skipping upgrade: cymem<2.1.0,>=2.0.2 in /usr/local/lib/python3.6/dist-packages (from spacy[cuda100]) (2.0.3)\n",
      "Requirement already satisfied, skipping upgrade: setuptools in /usr/local/lib/python3.6/dist-packages (from spacy[cuda100]) (42.0.2)\n",
      "Requirement already satisfied, skipping upgrade: preshed<3.1.0,>=3.0.2 in /usr/local/lib/python3.6/dist-packages (from spacy[cuda100]) (3.0.2)\n",
      "Requirement already satisfied, skipping upgrade: wasabi<1.1.0,>=0.4.0 in /usr/local/lib/python3.6/dist-packages (from spacy[cuda100]) (0.4.2)\n",
      "Requirement already satisfied, skipping upgrade: requests<3.0.0,>=2.13.0 in /usr/local/lib/python3.6/dist-packages (from spacy[cuda100]) (2.21.0)\n",
      "Requirement already satisfied, skipping upgrade: catalogue<1.1.0,>=0.0.7 in /usr/local/lib/python3.6/dist-packages (from spacy[cuda100]) (0.0.8)\n",
      "Requirement already satisfied, skipping upgrade: srsly<1.1.0,>=0.1.0 in /usr/local/lib/python3.6/dist-packages (from spacy[cuda100]) (0.2.0)\n",
      "Requirement already satisfied, skipping upgrade: blis<0.5.0,>=0.4.0 in /usr/local/lib/python3.6/dist-packages (from spacy[cuda100]) (0.4.1)\n",
      "Requirement already satisfied, skipping upgrade: thinc<7.4.0,>=7.3.0 in /usr/local/lib/python3.6/dist-packages (from spacy[cuda100]) (7.3.1)\n",
      "Requirement already satisfied, skipping upgrade: numpy>=1.15.0 in /usr/local/lib/python3.6/dist-packages (from spacy[cuda100]) (1.17.4)\n",
      "Requirement already satisfied, skipping upgrade: cupy-cuda100>=5.0.0b4; extra == \"cuda100\" in /usr/local/lib/python3.6/dist-packages (from spacy[cuda100]) (7.0.0)\n",
      "Requirement already satisfied, skipping upgrade: idna<2.9,>=2.5 in /usr/local/lib/python3.6/dist-packages (from requests<3.0.0,>=2.13.0->spacy[cuda100]) (2.8)\n",
      "Requirement already satisfied, skipping upgrade: urllib3<1.25,>=1.21.1 in /usr/local/lib/python3.6/dist-packages (from requests<3.0.0,>=2.13.0->spacy[cuda100]) (1.24.3)\n",
      "Requirement already satisfied, skipping upgrade: certifi>=2017.4.17 in /usr/local/lib/python3.6/dist-packages (from requests<3.0.0,>=2.13.0->spacy[cuda100]) (2019.11.28)\n",
      "Requirement already satisfied, skipping upgrade: chardet<3.1.0,>=3.0.2 in /usr/local/lib/python3.6/dist-packages (from requests<3.0.0,>=2.13.0->spacy[cuda100]) (3.0.4)\n",
      "Requirement already satisfied, skipping upgrade: importlib-metadata>=0.20; python_version < \"3.8\" in /usr/local/lib/python3.6/dist-packages (from catalogue<1.1.0,>=0.0.7->spacy[cuda100]) (1.3.0)\n",
      "Requirement already satisfied, skipping upgrade: tqdm<5.0.0,>=4.10.0 in /usr/local/lib/python3.6/dist-packages (from thinc<7.4.0,>=7.3.0->spacy[cuda100]) (4.40.2)\n",
      "Requirement already satisfied, skipping upgrade: fastrlock>=0.3 in /usr/local/lib/python3.6/dist-packages (from cupy-cuda100>=5.0.0b4; extra == \"cuda100\"->spacy[cuda100]) (0.4)\n",
      "Requirement already satisfied, skipping upgrade: six>=1.9.0 in /usr/local/lib/python3.6/dist-packages (from cupy-cuda100>=5.0.0b4; extra == \"cuda100\"->spacy[cuda100]) (1.12.0)\n",
      "Requirement already satisfied, skipping upgrade: zipp>=0.5 in /usr/local/lib/python3.6/dist-packages (from importlib-metadata>=0.20; python_version < \"3.8\"->catalogue<1.1.0,>=0.0.7->spacy[cuda100]) (0.6.0)\n",
      "Requirement already satisfied, skipping upgrade: more-itertools in /usr/local/lib/python3.6/dist-packages (from zipp>=0.5->importlib-metadata>=0.20; python_version < \"3.8\"->catalogue<1.1.0,>=0.0.7->spacy[cuda100]) (8.0.2)\n",
      "Requirement already up-to-date: tqdm in /usr/local/lib/python3.6/dist-packages (4.40.2)\n",
      "Requirement already satisfied: en_trf_distilbertbaseuncased_lg==2.2.0 from https://github.com/explosion/spacy-models/releases/download/en_trf_distilbertbaseuncased_lg-2.2.0/en_trf_distilbertbaseuncased_lg-2.2.0.tar.gz#egg=en_trf_distilbertbaseuncased_lg==2.2.0 in /usr/local/lib/python3.6/dist-packages (2.2.0)\n",
      "Requirement already satisfied: spacy>=2.2.1 in /usr/local/lib/python3.6/dist-packages (from en_trf_distilbertbaseuncased_lg==2.2.0) (2.2.3)\n",
      "Requirement already satisfied: spacy-transformers>=0.5.0 in /usr/local/lib/python3.6/dist-packages (from en_trf_distilbertbaseuncased_lg==2.2.0) (0.5.1)\n",
      "Requirement already satisfied: srsly<1.1.0,>=0.1.0 in /usr/local/lib/python3.6/dist-packages (from spacy>=2.2.1->en_trf_distilbertbaseuncased_lg==2.2.0) (0.2.0)\n",
      "Requirement already satisfied: wasabi<1.1.0,>=0.4.0 in /usr/local/lib/python3.6/dist-packages (from spacy>=2.2.1->en_trf_distilbertbaseuncased_lg==2.2.0) (0.4.2)\n",
      "Requirement already satisfied: numpy>=1.15.0 in /usr/local/lib/python3.6/dist-packages (from spacy>=2.2.1->en_trf_distilbertbaseuncased_lg==2.2.0) (1.17.4)\n",
      "Requirement already satisfied: requests<3.0.0,>=2.13.0 in /usr/local/lib/python3.6/dist-packages (from spacy>=2.2.1->en_trf_distilbertbaseuncased_lg==2.2.0) (2.21.0)\n",
      "Requirement already satisfied: preshed<3.1.0,>=3.0.2 in /usr/local/lib/python3.6/dist-packages (from spacy>=2.2.1->en_trf_distilbertbaseuncased_lg==2.2.0) (3.0.2)\n",
      "Requirement already satisfied: cymem<2.1.0,>=2.0.2 in /usr/local/lib/python3.6/dist-packages (from spacy>=2.2.1->en_trf_distilbertbaseuncased_lg==2.2.0) (2.0.3)\n",
      "Requirement already satisfied: blis<0.5.0,>=0.4.0 in /usr/local/lib/python3.6/dist-packages (from spacy>=2.2.1->en_trf_distilbertbaseuncased_lg==2.2.0) (0.4.1)\n",
      "Requirement already satisfied: catalogue<1.1.0,>=0.0.7 in /usr/local/lib/python3.6/dist-packages (from spacy>=2.2.1->en_trf_distilbertbaseuncased_lg==2.2.0) (0.0.8)\n",
      "Requirement already satisfied: setuptools in /usr/local/lib/python3.6/dist-packages (from spacy>=2.2.1->en_trf_distilbertbaseuncased_lg==2.2.0) (42.0.2)\n",
      "Requirement already satisfied: plac<1.2.0,>=0.9.6 in /usr/local/lib/python3.6/dist-packages (from spacy>=2.2.1->en_trf_distilbertbaseuncased_lg==2.2.0) (0.9.6)\n",
      "Requirement already satisfied: murmurhash<1.1.0,>=0.28.0 in /usr/local/lib/python3.6/dist-packages (from spacy>=2.2.1->en_trf_distilbertbaseuncased_lg==2.2.0) (1.0.2)\n",
      "Requirement already satisfied: thinc<7.4.0,>=7.3.0 in /usr/local/lib/python3.6/dist-packages (from spacy>=2.2.1->en_trf_distilbertbaseuncased_lg==2.2.0) (7.3.1)\n",
      "Requirement already satisfied: torchcontrib<0.1.0,>=0.0.2 in /usr/local/lib/python3.6/dist-packages (from spacy-transformers>=0.5.0->en_trf_distilbertbaseuncased_lg==2.2.0) (0.0.2)\n",
      "Requirement already satisfied: ftfy<6.0.0,>=5.0.0 in /usr/local/lib/python3.6/dist-packages (from spacy-transformers>=0.5.0->en_trf_distilbertbaseuncased_lg==2.2.0) (5.6)\n",
      "Requirement already satisfied: importlib-metadata>=0.20; python_version < \"3.8\" in /usr/local/lib/python3.6/dist-packages (from spacy-transformers>=0.5.0->en_trf_distilbertbaseuncased_lg==2.2.0) (1.3.0)\n",
      "Requirement already satisfied: transformers<2.1.0,>=2.0.0 in /usr/local/lib/python3.6/dist-packages (from spacy-transformers>=0.5.0->en_trf_distilbertbaseuncased_lg==2.2.0) (2.0.0)\n",
      "Requirement already satisfied: dataclasses<0.7,>=0.6; python_version < \"3.7\" in /usr/local/lib/python3.6/dist-packages (from spacy-transformers>=0.5.0->en_trf_distilbertbaseuncased_lg==2.2.0) (0.6)\n",
      "Requirement already satisfied: torch>=1.0.0 in /usr/local/lib/python3.6/dist-packages (from spacy-transformers>=0.5.0->en_trf_distilbertbaseuncased_lg==2.2.0) (1.3.1)\n",
      "Requirement already satisfied: chardet<3.1.0,>=3.0.2 in /usr/local/lib/python3.6/dist-packages (from requests<3.0.0,>=2.13.0->spacy>=2.2.1->en_trf_distilbertbaseuncased_lg==2.2.0) (3.0.4)\n",
      "Requirement already satisfied: urllib3<1.25,>=1.21.1 in /usr/local/lib/python3.6/dist-packages (from requests<3.0.0,>=2.13.0->spacy>=2.2.1->en_trf_distilbertbaseuncased_lg==2.2.0) (1.24.3)\n",
      "Requirement already satisfied: idna<2.9,>=2.5 in /usr/local/lib/python3.6/dist-packages (from requests<3.0.0,>=2.13.0->spacy>=2.2.1->en_trf_distilbertbaseuncased_lg==2.2.0) (2.8)\n",
      "Requirement already satisfied: certifi>=2017.4.17 in /usr/local/lib/python3.6/dist-packages (from requests<3.0.0,>=2.13.0->spacy>=2.2.1->en_trf_distilbertbaseuncased_lg==2.2.0) (2019.11.28)\n",
      "Requirement already satisfied: tqdm<5.0.0,>=4.10.0 in /usr/local/lib/python3.6/dist-packages (from thinc<7.4.0,>=7.3.0->spacy>=2.2.1->en_trf_distilbertbaseuncased_lg==2.2.0) (4.40.2)\n",
      "Requirement already satisfied: wcwidth in /usr/local/lib/python3.6/dist-packages (from ftfy<6.0.0,>=5.0.0->spacy-transformers>=0.5.0->en_trf_distilbertbaseuncased_lg==2.2.0) (0.1.7)\n",
      "Requirement already satisfied: zipp>=0.5 in /usr/local/lib/python3.6/dist-packages (from importlib-metadata>=0.20; python_version < \"3.8\"->spacy-transformers>=0.5.0->en_trf_distilbertbaseuncased_lg==2.2.0) (0.6.0)\n",
      "Requirement already satisfied: sentencepiece in /usr/local/lib/python3.6/dist-packages (from transformers<2.1.0,>=2.0.0->spacy-transformers>=0.5.0->en_trf_distilbertbaseuncased_lg==2.2.0) (0.1.83)\n",
      "Requirement already satisfied: boto3 in /usr/local/lib/python3.6/dist-packages (from transformers<2.1.0,>=2.0.0->spacy-transformers>=0.5.0->en_trf_distilbertbaseuncased_lg==2.2.0) (1.10.36)\n",
      "Requirement already satisfied: sacremoses in /usr/local/lib/python3.6/dist-packages (from transformers<2.1.0,>=2.0.0->spacy-transformers>=0.5.0->en_trf_distilbertbaseuncased_lg==2.2.0) (0.0.35)\n",
      "Requirement already satisfied: regex in /usr/local/lib/python3.6/dist-packages (from transformers<2.1.0,>=2.0.0->spacy-transformers>=0.5.0->en_trf_distilbertbaseuncased_lg==2.2.0) (2019.12.9)\n",
      "Requirement already satisfied: more-itertools in /usr/local/lib/python3.6/dist-packages (from zipp>=0.5->importlib-metadata>=0.20; python_version < \"3.8\"->spacy-transformers>=0.5.0->en_trf_distilbertbaseuncased_lg==2.2.0) (8.0.2)\n",
      "Requirement already satisfied: jmespath<1.0.0,>=0.7.1 in /usr/local/lib/python3.6/dist-packages (from boto3->transformers<2.1.0,>=2.0.0->spacy-transformers>=0.5.0->en_trf_distilbertbaseuncased_lg==2.2.0) (0.9.4)\n",
      "Requirement already satisfied: botocore<1.14.0,>=1.13.36 in /usr/local/lib/python3.6/dist-packages (from boto3->transformers<2.1.0,>=2.0.0->spacy-transformers>=0.5.0->en_trf_distilbertbaseuncased_lg==2.2.0) (1.13.36)\n",
      "Requirement already satisfied: s3transfer<0.3.0,>=0.2.0 in /usr/local/lib/python3.6/dist-packages (from boto3->transformers<2.1.0,>=2.0.0->spacy-transformers>=0.5.0->en_trf_distilbertbaseuncased_lg==2.2.0) (0.2.1)\n",
      "Requirement already satisfied: six in /usr/local/lib/python3.6/dist-packages (from sacremoses->transformers<2.1.0,>=2.0.0->spacy-transformers>=0.5.0->en_trf_distilbertbaseuncased_lg==2.2.0) (1.12.0)\n",
      "Requirement already satisfied: joblib in /usr/local/lib/python3.6/dist-packages (from sacremoses->transformers<2.1.0,>=2.0.0->spacy-transformers>=0.5.0->en_trf_distilbertbaseuncased_lg==2.2.0) (0.14.1)\n",
      "Requirement already satisfied: click in /usr/local/lib/python3.6/dist-packages (from sacremoses->transformers<2.1.0,>=2.0.0->spacy-transformers>=0.5.0->en_trf_distilbertbaseuncased_lg==2.2.0) (7.0)\n",
      "Requirement already satisfied: python-dateutil<2.8.1,>=2.1; python_version >= \"2.7\" in /usr/local/lib/python3.6/dist-packages (from botocore<1.14.0,>=1.13.36->boto3->transformers<2.1.0,>=2.0.0->spacy-transformers>=0.5.0->en_trf_distilbertbaseuncased_lg==2.2.0) (2.6.1)\n",
      "Requirement already satisfied: docutils<0.16,>=0.10 in /usr/local/lib/python3.6/dist-packages (from botocore<1.14.0,>=1.13.36->boto3->transformers<2.1.0,>=2.0.0->spacy-transformers>=0.5.0->en_trf_distilbertbaseuncased_lg==2.2.0) (0.15.2)\n",
      "\u001b[38;5;2m✔ Download and installation successful\u001b[0m\n",
      "You can now load the model via spacy.load('en_trf_distilbertbaseuncased_lg')\n"
     ]
    }
   ],
   "source": [
    "#this can be skipped if you've already setup these libraries and dowloaded the model\n",
    "!pip install -U spacy[cuda100] \n",
    "!pip install -U tqdm\n",
    "!python -m spacy download en_trf_distilbertbaseuncased_lg"
   ]
  },
  {
   "cell_type": "code",
   "execution_count": 0,
   "metadata": {
    "colab": {},
    "colab_type": "code",
    "id": "SJCUQP10j7oG"
   },
   "outputs": [],
   "source": [
    "import spacy\n",
    "from spacy.util import minibatch\n",
    "import random\n",
    "import torch\n",
    "from tqdm import tqdm\n",
    "import pandas as pd"
   ]
  },
  {
   "cell_type": "code",
   "execution_count": 0,
   "metadata": {
    "colab": {
     "base_uri": "https://localhost:8080/",
     "height": 34
    },
    "colab_type": "code",
    "id": "nT-QuGGLkn4J",
    "outputId": "82da3e9b-9d50-408c-b4f0-5061143ca34f"
   },
   "outputs": [
    {
     "data": {
      "text/plain": [
       "True"
      ]
     },
     "execution_count": 5,
     "metadata": {
      "tags": []
     },
     "output_type": "execute_result"
    }
   ],
   "source": [
    "is_using_gpu = spacy.prefer_gpu()\n",
    "if is_using_gpu:\n",
    "    torch.set_default_tensor_type(\"torch.cuda.FloatTensor\")\n",
    "is_using_gpu"
   ]
  },
  {
   "cell_type": "code",
   "execution_count": null,
   "metadata": {
    "colab": {
     "base_uri": "https://localhost:8080/",
     "height": 80
    },
    "colab_type": "code",
    "id": "B1pD9B6ZQGM_",
    "outputId": "0f79d9c4-c41f-464a-9706-ef41fb8026fa"
   },
   "outputs": [],
   "source": [
    "nlp=spacy.load('en_trf_distilbertbaseuncased_lg')"
   ]
  },
  {
   "cell_type": "code",
   "execution_count": 0,
   "metadata": {
    "colab": {
     "base_uri": "https://localhost:8080/",
     "height": 34
    },
    "colab_type": "code",
    "id": "ubEFKj6h1R2w",
    "outputId": "091a8351-e69d-45c9-f3f9-bed2598c8422"
   },
   "outputs": [
    {
     "name": "stdout",
     "output_type": "stream",
     "text": [
      "['sentencizer', 'trf_wordpiecer', 'trf_tok2vec']\n"
     ]
    }
   ],
   "source": [
    "print(nlp.pipe_names) # [\"sentencizer\", \"trf_wordpiecer\", \"trf_tok2vec\"]\n",
    "textcat = nlp.create_pipe(\"trf_textcat\", config={\"exclusive_classes\": False})\n",
    "for label in [\"BugFix\",\"NotBugFix\"]:\n",
    "    textcat.add_label(label)\n",
    "nlp.add_pipe(textcat)\n",
    "nlp=nlp.from_disk(\"distilbert-textcat/\") "
   ]
  },
  {
   "cell_type": "code",
   "execution_count": 0,
   "metadata": {
    "colab": {
     "base_uri": "https://localhost:8080/",
     "height": 204
    },
    "colab_type": "code",
    "id": "ydttowdnCSe5",
    "outputId": "0c7ce78d-f57a-428d-e625-bf0e503f122c"
   },
   "outputs": [
    {
     "data": {
      "text/html": [
       "<div>\n",
       "<style scoped>\n",
       "    .dataframe tbody tr th:only-of-type {\n",
       "        vertical-align: middle;\n",
       "    }\n",
       "\n",
       "    .dataframe tbody tr th {\n",
       "        vertical-align: top;\n",
       "    }\n",
       "\n",
       "    .dataframe thead th {\n",
       "        text-align: right;\n",
       "    }\n",
       "</style>\n",
       "<table border=\"1\" class=\"dataframe\">\n",
       "  <thead>\n",
       "    <tr style=\"text-align: right;\">\n",
       "      <th></th>\n",
       "      <th>text</th>\n",
       "      <th>label</th>\n",
       "    </tr>\n",
       "  </thead>\n",
       "  <tbody>\n",
       "    <tr>\n",
       "      <th>0</th>\n",
       "      <td>rCriticalSection &amp; rSemaphore removed     ...</td>\n",
       "      <td>1</td>\n",
       "    </tr>\n",
       "    <tr>\n",
       "      <th>1</th>\n",
       "      <td>[ALSA] Improve SPDIF playback via the P16V...</td>\n",
       "      <td>0</td>\n",
       "    </tr>\n",
       "    <tr>\n",
       "      <th>2</th>\n",
       "      <td>KVM: Change the emulator_{read write cmpxc...</td>\n",
       "      <td>0</td>\n",
       "    </tr>\n",
       "    <tr>\n",
       "      <th>3</th>\n",
       "      <td>Bump test projects up to .NET 4.5.2     - ...</td>\n",
       "      <td>0</td>\n",
       "    </tr>\n",
       "    <tr>\n",
       "      <th>4</th>\n",
       "      <td>Update proto name to fix Windows portabili...</td>\n",
       "      <td>1</td>\n",
       "    </tr>\n",
       "  </tbody>\n",
       "</table>\n",
       "</div>"
      ],
      "text/plain": [
       "                                                text  label\n",
       "0      rCriticalSection & rSemaphore removed     ...      1\n",
       "1      [ALSA] Improve SPDIF playback via the P16V...      0\n",
       "2      KVM: Change the emulator_{read write cmpxc...      0\n",
       "3      Bump test projects up to .NET 4.5.2     - ...      0\n",
       "4      Update proto name to fix Windows portabili...      1"
      ]
     },
     "execution_count": 10,
     "metadata": {
      "tags": []
     },
     "output_type": "execute_result"
    }
   ],
   "source": [
    "train_df=pd.read_csv('dataset/train.csv')\n",
    "train_df.head()"
   ]
  },
  {
   "cell_type": "code",
   "execution_count": 0,
   "metadata": {
    "colab": {},
    "colab_type": "code",
    "id": "Cw4jXqEoCOxg"
   },
   "outputs": [],
   "source": [
    "def create_dataset(df):\n",
    "    dataset=[]\n",
    "    for i in df.itertuples():\n",
    "        if i.label==1:\n",
    "            dataset.append((i.text,{\"cats\":{\"BugFix\": 1.0, \"NotBugFix\": 0.0}}))\n",
    "        else:\n",
    "            dataset.append((i.text,{\"cats\":{\"BugFix\": 0.0, \"NotBugFix\": 1.0}}))\n",
    "    return dataset"
   ]
  },
  {
   "cell_type": "code",
   "execution_count": 0,
   "metadata": {
    "colab": {},
    "colab_type": "code",
    "id": "mprgppOi0DxY"
   },
   "outputs": [],
   "source": [
    "def evaluate(df):\n",
    "    tp,fp,tn,fn=0,0,0,0\n",
    "    for i in tqdm(df.itertuples()):\n",
    "        doc=nlp(i.text)\n",
    "        if i.label==1 and (doc.cats['BugFix']>doc.cats['NotBugFix']):\n",
    "            tp+=1\n",
    "        if i.label==0 and (doc.cats['NotBugFix']>doc.cats['BugFix']):\n",
    "            tn+=1\n",
    "        if i.label==0 and (doc.cats['BugFix']>doc.cats['NotBugFix']):\n",
    "            fp+=1\n",
    "        if i.label==1 and (doc.cats['NotBugFix']>doc.cats['BugFix']):\n",
    "            fn+=1\n",
    "    return tp,fp,tn,fn"
   ]
  },
  {
   "cell_type": "code",
   "execution_count": 0,
   "metadata": {
    "colab": {
     "base_uri": "https://localhost:8080/",
     "height": 68
    },
    "colab_type": "code",
    "id": "S3jlKjEg0DU_",
    "outputId": "59846075-fbae-410f-ceba-957fea93f8d6"
   },
   "outputs": [
    {
     "name": "stderr",
     "output_type": "stream",
     "text": [
      "324it [00:05, 63.85it/s]"
     ]
    },
    {
     "name": "stdout",
     "output_type": "stream",
     "text": [
      "98 25 192 9\n",
      "0.8950617283950617\n"
     ]
    },
    {
     "name": "stderr",
     "output_type": "stream",
     "text": [
      "\n"
     ]
    }
   ],
   "source": [
    "eval_df=pd.read_csv('dataset/test.csv')\n",
    "tp,fp,tn,fn=evaluate(eval_df)\n",
    "print(tp,fp,tn,fn)\n",
    "print((tp+tn)/(tp+tn+fp+fn))"
   ]
  },
  {
   "cell_type": "code",
   "execution_count": 0,
   "metadata": {
    "colab": {
     "base_uri": "https://localhost:8080/",
     "height": 68
    },
    "colab_type": "code",
    "id": "2KZr5Ojo0DGQ",
    "outputId": "0bbd31d8-17dd-4ea1-859f-845cd6ac5e53"
   },
   "outputs": [
    {
     "name": "stderr",
     "output_type": "stream",
     "text": [
      "1151it [00:15, 76.70it/s]"
     ]
    },
    {
     "name": "stdout",
     "output_type": "stream",
     "text": [
      "294 36 615 206\n",
      "0.789748045178106\n"
     ]
    },
    {
     "name": "stderr",
     "output_type": "stream",
     "text": [
      "\n"
     ]
    }
   ],
   "source": [
    "eval_df=pd.read_csv('dataset/levin et al.csv')\n",
    "tp,fp,tn,fn=evaluate(eval_df)\n",
    "print(tp,fp,tn,fn)\n",
    "print((tp+tn)/(tp+tn+fp+fn))"
   ]
  },
  {
   "cell_type": "code",
   "execution_count": 0,
   "metadata": {
    "colab": {
     "base_uri": "https://localhost:8080/",
     "height": 68
    },
    "colab_type": "code",
    "id": "EX0BMcs-0CfY",
    "outputId": "6fb99ab7-2f25-4402-c6c3-b23016f2efa1"
   },
   "outputs": [
    {
     "name": "stderr",
     "output_type": "stream",
     "text": [
      "375it [00:04, 78.18it/s]"
     ]
    },
    {
     "name": "stdout",
     "output_type": "stream",
     "text": [
      "114 39 196 26\n",
      "0.8266666666666667\n"
     ]
    },
    {
     "name": "stderr",
     "output_type": "stream",
     "text": [
      "\n"
     ]
    }
   ],
   "source": [
    "eval_df=pd.read_csv('dataset/berger et al.csv')\n",
    "tp,fp,tn,fn=evaluate(eval_df)\n",
    "print(tp,fp,tn,fn)\n",
    "print((tp+tn)/(tp+tn+fp+fn))"
   ]
  },
  {
   "cell_type": "code",
   "execution_count": 0,
   "metadata": {
    "colab": {
     "base_uri": "https://localhost:8080/",
     "height": 68
    },
    "colab_type": "code",
    "id": "ZlHcVIYM0COH",
    "outputId": "eb90d612-f0df-4f79-f726-ab539d89d271"
   },
   "outputs": [
    {
     "name": "stderr",
     "output_type": "stream",
     "text": [
      "271it [00:03, 79.75it/s]"
     ]
    },
    {
     "name": "stdout",
     "output_type": "stream",
     "text": [
      "83 16 165 7\n",
      "0.915129151291513\n"
     ]
    },
    {
     "name": "stderr",
     "output_type": "stream",
     "text": [
      "\n"
     ]
    }
   ],
   "source": [
    "eval_df=pd.read_csv('dataset/berger et al subset.csv')\n",
    "tp,fp,tn,fn=evaluate(eval_df)\n",
    "print(tp,fp,tn,fn)\n",
    "print((tp+tn)/(tp+tn+fp+fn))"
   ]
  },
  {
   "cell_type": "code",
   "execution_count": 0,
   "metadata": {
    "colab": {
     "base_uri": "https://localhost:8080/",
     "height": 34
    },
    "colab_type": "code",
    "id": "AjtwhOHP0B8P",
    "outputId": "ed6f1c10-e821-44dd-8c0b-c9771f6ddbc0"
   },
   "outputs": [
    {
     "name": "stdout",
     "output_type": "stream",
     "text": [
      "dataset_message.csv\n"
     ]
    }
   ],
   "source": [
    "!tar -xzvf dataset_message.tgz "
   ]
  },
  {
   "cell_type": "code",
   "execution_count": 0,
   "metadata": {
    "colab": {},
    "colab_type": "code",
    "id": "xrQqgZ5SnvK6"
   },
   "outputs": [],
   "source": [
    "df_pred=pd.read_csv('dataset_message.csv')"
   ]
  },
  {
   "cell_type": "code",
   "execution_count": 0,
   "metadata": {
    "colab": {},
    "colab_type": "code",
    "id": "MeRjESqYMKdE"
   },
   "outputs": [],
   "source": [
    "df_pred['message']=df_pred['message'].str[:384]\n",
    "df_pred=df_pred.drop_duplicates(subset='message')"
   ]
  },
  {
   "cell_type": "code",
   "execution_count": 0,
   "metadata": {
    "colab": {},
    "colab_type": "code",
    "id": "ni2fB__SnycW"
   },
   "outputs": [],
   "source": [
    "def get_prediction(df,batch=16):\n",
    "    preds=[]\n",
    "    for doc in tqdm(nlp.pipe(df['message'].tolist(),\n",
    "                           disable=[\"tagger\", \"parser\",\"merge_noun_chunks\",\n",
    "                                    \"merge_entities\",\"merge_subtokens\"\n",
    "                                    \"ner\",\"entity_linker\",\"entity_ruler\"])):\n",
    "    if doc.cats['BugFix']>doc.cats['NotBugFix']:\n",
    "        preds.append(1)\n",
    "    else:\n",
    "        preds.append(0)\n",
    "    return preds"
   ]
  },
  {
   "cell_type": "code",
   "execution_count": 0,
   "metadata": {
    "colab": {},
    "colab_type": "code",
    "id": "bgC4mv_1oigp"
   },
   "outputs": [],
   "source": [
    "df_pred['message'] = df_pred['message'].astype(str)"
   ]
  },
  {
   "cell_type": "code",
   "execution_count": 0,
   "metadata": {
    "colab": {},
    "colab_type": "code",
    "id": "MunrfVWWqEt2"
   },
   "outputs": [],
   "source": [
    "tqdm.pandas()"
   ]
  },
  {
   "cell_type": "code",
   "execution_count": 0,
   "metadata": {
    "colab": {
     "base_uri": "https://localhost:8080/",
     "height": 34
    },
    "colab_type": "code",
    "id": "qhepuO-C7gld",
    "outputId": "772f9180-d89a-4773-8cf3-dbff5a61bd34"
   },
   "outputs": [
    {
     "name": "stderr",
     "output_type": "stream",
     "text": [
      "4909387it [9:19:58, 146.12it/s]\n"
     ]
    }
   ],
   "source": [
    "#9hrs 8 mins for 384 chars for ~4.90M commits\n",
    "preds=get_prediction(df_pred)"
   ]
  },
  {
   "cell_type": "code",
   "execution_count": 0,
   "metadata": {
    "colab": {
     "base_uri": "https://localhost:8080/",
     "height": 34
    },
    "colab_type": "code",
    "id": "SeB8qdPH1ycL",
    "outputId": "77cfc3d0-d97f-4682-80b0-5ae09e10e615"
   },
   "outputs": [
    {
     "data": {
      "text/plain": [
       "['preds.joblib']"
      ]
     },
     "execution_count": 33,
     "metadata": {
      "tags": []
     },
     "output_type": "execute_result"
    }
   ],
   "source": [
    "import joblib\n",
    "joblib.dump(preds,'preds.joblib', compress='zlib')"
   ]
  },
  {
   "cell_type": "code",
   "execution_count": 0,
   "metadata": {
    "colab": {
     "base_uri": "https://localhost:8080/",
     "height": 34
    },
    "colab_type": "code",
    "id": "p_QEpia40yrf",
    "outputId": "b504f3ce-9acd-48cb-819b-78709c0a589a"
   },
   "outputs": [
    {
     "data": {
      "text/plain": [
       "4909387"
      ]
     },
     "execution_count": 34,
     "metadata": {
      "tags": []
     },
     "output_type": "execute_result"
    }
   ],
   "source": [
    "len(preds)"
   ]
  }
 ],
 "metadata": {
  "accelerator": "GPU",
  "colab": {
   "collapsed_sections": [],
   "name": "Spacy Predict",
   "provenance": []
  },
  "kernelspec": {
   "display_name": "Python 3",
   "language": "python",
   "name": "python3"
  },
  "language_info": {
   "codemirror_mode": {
    "name": "ipython",
    "version": 3
   },
   "file_extension": ".py",
   "mimetype": "text/x-python",
   "name": "python",
   "nbconvert_exporter": "python",
   "pygments_lexer": "ipython3",
   "version": "3.7.3"
  }
 },
 "nbformat": 4,
 "nbformat_minor": 1
}
