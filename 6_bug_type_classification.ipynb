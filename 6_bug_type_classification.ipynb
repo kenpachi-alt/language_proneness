{
 "cells": [
  {
   "cell_type": "code",
   "execution_count": 2,
   "metadata": {},
   "outputs": [],
   "source": [
    "#some library imports\n",
    "import pandas as pd\n",
    "from glob import glob\n",
    "from tqdm import tqdm\n",
    "import os\n",
    "import re\n",
    "import datetime"
   ]
  },
  {
   "cell_type": "code",
   "execution_count": 83,
   "metadata": {},
   "outputs": [
    {
     "name": "stderr",
     "output_type": "stream",
     "text": [
      "/home/sarim/anaconda3/envs/deep/lib/python3.7/site-packages/IPython/core/interactiveshell.py:3051: DtypeWarning: Columns (2,3) have mixed types. Specify dtype option on import or set low_memory=False.\n",
      "  interactivity=interactivity, compiler=compiler, result=result)\n"
     ]
    }
   ],
   "source": [
    "df=pd.read_csv('dataset.csv')"
   ]
  },
  {
   "cell_type": "code",
   "execution_count": 84,
   "metadata": {
    "scrolled": true
   },
   "outputs": [
    {
     "data": {
      "text/html": [
       "<div>\n",
       "<style scoped>\n",
       "    .dataframe tbody tr th:only-of-type {\n",
       "        vertical-align: middle;\n",
       "    }\n",
       "\n",
       "    .dataframe tbody tr th {\n",
       "        vertical-align: top;\n",
       "    }\n",
       "\n",
       "    .dataframe thead th {\n",
       "        text-align: right;\n",
       "    }\n",
       "</style>\n",
       "<table border=\"1\" class=\"dataframe\">\n",
       "  <thead>\n",
       "    <tr style=\"text-align: right;\">\n",
       "      <th></th>\n",
       "      <th>date</th>\n",
       "      <th>commiter</th>\n",
       "      <th>commit_insertion</th>\n",
       "      <th>commit_deletion</th>\n",
       "      <th>file_language</th>\n",
       "      <th>is_bug</th>\n",
       "      <th>filename</th>\n",
       "      <th>sha</th>\n",
       "      <th>message</th>\n",
       "      <th>project</th>\n",
       "      <th>github_language</th>\n",
       "    </tr>\n",
       "  </thead>\n",
       "  <tbody>\n",
       "    <tr>\n",
       "      <th>0</th>\n",
       "      <td>Wed Dec 11 13:29:19 2019 +0100</td>\n",
       "      <td>Oliver Eyton-Williamsojeytonwilliams@gmail.com</td>\n",
       "      <td>14</td>\n",
       "      <td>4</td>\n",
       "      <td>JavaScript</td>\n",
       "      <td>0.0</td>\n",
       "      <td>client/src/templates/Challenges/utils/frame.js</td>\n",
       "      <td>d6c53eb9142d1986e15b09435cb1191bd35c3aae</td>\n",
       "      <td>fix(client): report cross origin errors (#...</td>\n",
       "      <td>freeCodeCamp/freeCodeCamp</td>\n",
       "      <td>JavaScript</td>\n",
       "    </tr>\n",
       "    <tr>\n",
       "      <th>1</th>\n",
       "      <td>Wed Dec 11 06:43:06 2019 -0500</td>\n",
       "      <td>Catalinaionescuc@dickinson.edu</td>\n",
       "      <td>20</td>\n",
       "      <td>9</td>\n",
       "      <td>JavaScript</td>\n",
       "      <td>0.0</td>\n",
       "      <td>api-server/common/models/user.js</td>\n",
       "      <td>e154f38118be44b49e9a6a99dd88c447d008f9ac</td>\n",
       "      <td>added displayusername and username update ...</td>\n",
       "      <td>freeCodeCamp/freeCodeCamp</td>\n",
       "      <td>JavaScript</td>\n",
       "    </tr>\n",
       "    <tr>\n",
       "      <th>2</th>\n",
       "      <td>Wed Dec 11 06:43:06 2019 -0500</td>\n",
       "      <td>Catalinaionescuc@dickinson.edu</td>\n",
       "      <td>14</td>\n",
       "      <td>11</td>\n",
       "      <td>JavaScript</td>\n",
       "      <td>0.0</td>\n",
       "      <td>api-server/server/boot/settings.js</td>\n",
       "      <td>e154f38118be44b49e9a6a99dd88c447d008f9ac</td>\n",
       "      <td>added displayusername and username update ...</td>\n",
       "      <td>freeCodeCamp/freeCodeCamp</td>\n",
       "      <td>JavaScript</td>\n",
       "    </tr>\n",
       "    <tr>\n",
       "      <th>3</th>\n",
       "      <td>Wed Dec 11 06:43:06 2019 -0500</td>\n",
       "      <td>Catalinaionescuc@dickinson.edu</td>\n",
       "      <td>1</td>\n",
       "      <td>0</td>\n",
       "      <td>JavaScript</td>\n",
       "      <td>0.0</td>\n",
       "      <td>api-server/server/utils/auth.js</td>\n",
       "      <td>e154f38118be44b49e9a6a99dd88c447d008f9ac</td>\n",
       "      <td>added displayusername and username update ...</td>\n",
       "      <td>freeCodeCamp/freeCodeCamp</td>\n",
       "      <td>JavaScript</td>\n",
       "    </tr>\n",
       "    <tr>\n",
       "      <th>4</th>\n",
       "      <td>Wed Dec 11 06:43:06 2019 -0500</td>\n",
       "      <td>Catalinaionescuc@dickinson.edu</td>\n",
       "      <td>1</td>\n",
       "      <td>0</td>\n",
       "      <td>JavaScript</td>\n",
       "      <td>0.0</td>\n",
       "      <td>api-server/server/utils/publicUserProps.js</td>\n",
       "      <td>e154f38118be44b49e9a6a99dd88c447d008f9ac</td>\n",
       "      <td>added displayusername and username update ...</td>\n",
       "      <td>freeCodeCamp/freeCodeCamp</td>\n",
       "      <td>JavaScript</td>\n",
       "    </tr>\n",
       "  </tbody>\n",
       "</table>\n",
       "</div>"
      ],
      "text/plain": [
       "                             date  \\\n",
       "0  Wed Dec 11 13:29:19 2019 +0100   \n",
       "1  Wed Dec 11 06:43:06 2019 -0500   \n",
       "2  Wed Dec 11 06:43:06 2019 -0500   \n",
       "3  Wed Dec 11 06:43:06 2019 -0500   \n",
       "4  Wed Dec 11 06:43:06 2019 -0500   \n",
       "\n",
       "                                         commiter commit_insertion  \\\n",
       "0  Oliver Eyton-Williamsojeytonwilliams@gmail.com               14   \n",
       "1                  Catalinaionescuc@dickinson.edu               20   \n",
       "2                  Catalinaionescuc@dickinson.edu               14   \n",
       "3                  Catalinaionescuc@dickinson.edu                1   \n",
       "4                  Catalinaionescuc@dickinson.edu                1   \n",
       "\n",
       "  commit_deletion file_language  is_bug  \\\n",
       "0               4    JavaScript     0.0   \n",
       "1               9    JavaScript     0.0   \n",
       "2              11    JavaScript     0.0   \n",
       "3               0    JavaScript     0.0   \n",
       "4               0    JavaScript     0.0   \n",
       "\n",
       "                                         filename  \\\n",
       "0  client/src/templates/Challenges/utils/frame.js   \n",
       "1                api-server/common/models/user.js   \n",
       "2              api-server/server/boot/settings.js   \n",
       "3                 api-server/server/utils/auth.js   \n",
       "4      api-server/server/utils/publicUserProps.js   \n",
       "\n",
       "                                        sha  \\\n",
       "0  d6c53eb9142d1986e15b09435cb1191bd35c3aae   \n",
       "1  e154f38118be44b49e9a6a99dd88c447d008f9ac   \n",
       "2  e154f38118be44b49e9a6a99dd88c447d008f9ac   \n",
       "3  e154f38118be44b49e9a6a99dd88c447d008f9ac   \n",
       "4  e154f38118be44b49e9a6a99dd88c447d008f9ac   \n",
       "\n",
       "                                             message  \\\n",
       "0      fix(client): report cross origin errors (#...   \n",
       "1      added displayusername and username update ...   \n",
       "2      added displayusername and username update ...   \n",
       "3      added displayusername and username update ...   \n",
       "4      added displayusername and username update ...   \n",
       "\n",
       "                     project github_language  \n",
       "0  freeCodeCamp/freeCodeCamp      JavaScript  \n",
       "1  freeCodeCamp/freeCodeCamp      JavaScript  \n",
       "2  freeCodeCamp/freeCodeCamp      JavaScript  \n",
       "3  freeCodeCamp/freeCodeCamp      JavaScript  \n",
       "4  freeCodeCamp/freeCodeCamp      JavaScript  "
      ]
     },
     "execution_count": 84,
     "metadata": {},
     "output_type": "execute_result"
    }
   ],
   "source": [
    "df.head()"
   ]
  },
  {
   "cell_type": "code",
   "execution_count": 85,
   "metadata": {},
   "outputs": [
    {
     "data": {
      "text/plain": [
       "date                 object\n",
       "commiter             object\n",
       "commit_insertion     object\n",
       "commit_deletion      object\n",
       "file_language        object\n",
       "is_bug              float64\n",
       "filename             object\n",
       "sha                  object\n",
       "message              object\n",
       "project              object\n",
       "github_language      object\n",
       "dtype: object"
      ]
     },
     "execution_count": 85,
     "metadata": {},
     "output_type": "execute_result"
    }
   ],
   "source": [
    "df.dtypes"
   ]
  },
  {
   "cell_type": "code",
   "execution_count": 86,
   "metadata": {},
   "outputs": [],
   "source": [
    "df=df[~(df['commit_insertion']=='mono/mono')]"
   ]
  },
  {
   "cell_type": "code",
   "execution_count": 87,
   "metadata": {},
   "outputs": [
    {
     "data": {
      "text/plain": [
       "github_language  project                           \n",
       "Assembly         0xAX/asm                                19\n",
       "                 KnightOS/KnightOS                      447\n",
       "                 Overv/MineAssemble                      57\n",
       "                 PDP-10/its                              15\n",
       "                 ReturnInfinity/BareMetal-OS-legacy     282\n",
       "                                                       ... \n",
       "TypeScript       t4t5/sweetalert                        160\n",
       "                 tensorflow/tfjs                       2749\n",
       "                 typeorm/typeorm                       2405\n",
       "                 ustbhuangyi/better-scroll              846\n",
       "                 vuetifyjs/vuetify                     4548\n",
       "Name: sha, Length: 834, dtype: int64"
      ]
     },
     "execution_count": 87,
     "metadata": {},
     "output_type": "execute_result"
    }
   ],
   "source": [
    "num_commits=df.groupby(['github_language', 'project']).sha.nunique()\n",
    "num_commits"
   ]
  },
  {
   "cell_type": "code",
   "execution_count": 88,
   "metadata": {},
   "outputs": [
    {
     "data": {
      "text/html": [
       "<div>\n",
       "<style scoped>\n",
       "    .dataframe tbody tr th:only-of-type {\n",
       "        vertical-align: middle;\n",
       "    }\n",
       "\n",
       "    .dataframe tbody tr th {\n",
       "        vertical-align: top;\n",
       "    }\n",
       "\n",
       "    .dataframe thead th {\n",
       "        text-align: right;\n",
       "    }\n",
       "</style>\n",
       "<table border=\"1\" class=\"dataframe\">\n",
       "  <thead>\n",
       "    <tr style=\"text-align: right;\">\n",
       "      <th></th>\n",
       "      <th>sha</th>\n",
       "    </tr>\n",
       "  </thead>\n",
       "  <tbody>\n",
       "    <tr>\n",
       "      <th>0.25</th>\n",
       "      <td>183.0</td>\n",
       "    </tr>\n",
       "    <tr>\n",
       "      <th>0.50</th>\n",
       "      <td>826.5</td>\n",
       "    </tr>\n",
       "    <tr>\n",
       "      <th>0.75</th>\n",
       "      <td>3089.0</td>\n",
       "    </tr>\n",
       "  </tbody>\n",
       "</table>\n",
       "</div>"
      ],
      "text/plain": [
       "         sha\n",
       "0.25   183.0\n",
       "0.50   826.5\n",
       "0.75  3089.0"
      ]
     },
     "execution_count": 88,
     "metadata": {},
     "output_type": "execute_result"
    }
   ],
   "source": [
    "#compute quantiles\n",
    "quantiles=pd.DataFrame(num_commits).quantile([0.25,0.5,0.75])\n",
    "#get the first quantile value for number of commits\n",
    "first_quartile_commits=quantiles.values[0][0]\n",
    "quantiles"
   ]
  },
  {
   "cell_type": "code",
   "execution_count": 89,
   "metadata": {},
   "outputs": [],
   "source": [
    "projects_to_neglect=num_commits[num_commits<first_quartile_commits].reset_index(name='count')['project'].values.tolist()"
   ]
  },
  {
   "cell_type": "code",
   "execution_count": 90,
   "metadata": {},
   "outputs": [],
   "source": [
    "df=df[~df.project.isin(projects_to_neglect)]"
   ]
  },
  {
   "cell_type": "code",
   "execution_count": 91,
   "metadata": {},
   "outputs": [
    {
     "data": {
      "text/plain": [
       "github_language  project                             file_language\n",
       "Assembly         KnightOS/KnightOS                   Assembly          432\n",
       "                                                     C#                 37\n",
       "                 ReturnInfinity/BareMetal-OS-legacy  Assembly          218\n",
       "                                                     C                  91\n",
       "                                                     JavaScript          4\n",
       "                                                                      ... \n",
       "TypeScript       typeorm/typeorm                     TypeScript       2401\n",
       "                 ustbhuangyi/better-scroll           JavaScript        567\n",
       "                                                     TypeScript        310\n",
       "                 vuetifyjs/vuetify                   JavaScript       3765\n",
       "                                                     TypeScript       1055\n",
       "Name: sha, Length: 2463, dtype: int64"
      ]
     },
     "execution_count": 91,
     "metadata": {},
     "output_type": "execute_result"
    }
   ],
   "source": [
    "commit_langs=df.groupby(['github_language', 'project','file_language']).sha.nunique()\n",
    "commit_langs"
   ]
  },
  {
   "cell_type": "code",
   "execution_count": 92,
   "metadata": {},
   "outputs": [
    {
     "data": {
      "text/html": [
       "<div>\n",
       "<style scoped>\n",
       "    .dataframe tbody tr th:only-of-type {\n",
       "        vertical-align: middle;\n",
       "    }\n",
       "\n",
       "    .dataframe tbody tr th {\n",
       "        vertical-align: top;\n",
       "    }\n",
       "\n",
       "    .dataframe thead th {\n",
       "        text-align: right;\n",
       "    }\n",
       "</style>\n",
       "<table border=\"1\" class=\"dataframe\">\n",
       "  <thead>\n",
       "    <tr style=\"text-align: right;\">\n",
       "      <th></th>\n",
       "      <th>sha</th>\n",
       "    </tr>\n",
       "  </thead>\n",
       "  <tbody>\n",
       "    <tr>\n",
       "      <th>0.25</th>\n",
       "      <td>6.0</td>\n",
       "    </tr>\n",
       "    <tr>\n",
       "      <th>0.50</th>\n",
       "      <td>63.0</td>\n",
       "    </tr>\n",
       "    <tr>\n",
       "      <th>0.75</th>\n",
       "      <td>666.0</td>\n",
       "    </tr>\n",
       "  </tbody>\n",
       "</table>\n",
       "</div>"
      ],
      "text/plain": [
       "        sha\n",
       "0.25    6.0\n",
       "0.50   63.0\n",
       "0.75  666.0"
      ]
     },
     "execution_count": 92,
     "metadata": {},
     "output_type": "execute_result"
    }
   ],
   "source": [
    "#compute quantiles\n",
    "lang_quantiles=pd.DataFrame(commit_langs).quantile([0.25,0.5,0.75])\n",
    "#get the first quantile value for number of commits\n",
    "first_quartile_lang=lang_quantiles.values[0][0]\n",
    "lang_quantiles"
   ]
  },
  {
   "cell_type": "code",
   "execution_count": 93,
   "metadata": {},
   "outputs": [
    {
     "data": {
      "text/html": [
       "<div>\n",
       "<style scoped>\n",
       "    .dataframe tbody tr th:only-of-type {\n",
       "        vertical-align: middle;\n",
       "    }\n",
       "\n",
       "    .dataframe tbody tr th {\n",
       "        vertical-align: top;\n",
       "    }\n",
       "\n",
       "    .dataframe thead th {\n",
       "        text-align: right;\n",
       "    }\n",
       "</style>\n",
       "<table border=\"1\" class=\"dataframe\">\n",
       "  <thead>\n",
       "    <tr style=\"text-align: right;\">\n",
       "      <th></th>\n",
       "      <th>github_language</th>\n",
       "      <th>project</th>\n",
       "      <th>file_language</th>\n",
       "      <th>count</th>\n",
       "    </tr>\n",
       "  </thead>\n",
       "  <tbody>\n",
       "    <tr>\n",
       "      <th>0</th>\n",
       "      <td>Assembly</td>\n",
       "      <td>ReturnInfinity/BareMetal-OS-legacy</td>\n",
       "      <td>JavaScript</td>\n",
       "      <td>4</td>\n",
       "    </tr>\n",
       "    <tr>\n",
       "      <th>1</th>\n",
       "      <td>Assembly</td>\n",
       "      <td>algorithm-archivists/algorithm-archive</td>\n",
       "      <td>Assembly</td>\n",
       "      <td>2</td>\n",
       "    </tr>\n",
       "    <tr>\n",
       "      <th>2</th>\n",
       "      <td>Assembly</td>\n",
       "      <td>algorithm-archivists/algorithm-archive</td>\n",
       "      <td>CoffeeScript</td>\n",
       "      <td>1</td>\n",
       "    </tr>\n",
       "    <tr>\n",
       "      <th>3</th>\n",
       "      <td>Assembly</td>\n",
       "      <td>algorithm-archivists/algorithm-archive</td>\n",
       "      <td>Lua</td>\n",
       "      <td>6</td>\n",
       "    </tr>\n",
       "    <tr>\n",
       "      <th>4</th>\n",
       "      <td>Assembly</td>\n",
       "      <td>cjdelisle/cjdns</td>\n",
       "      <td>Assembly</td>\n",
       "      <td>2</td>\n",
       "    </tr>\n",
       "    <tr>\n",
       "      <th>...</th>\n",
       "      <td>...</td>\n",
       "      <td>...</td>\n",
       "      <td>...</td>\n",
       "      <td>...</td>\n",
       "    </tr>\n",
       "    <tr>\n",
       "      <th>623</th>\n",
       "      <td>TypeScript</td>\n",
       "      <td>pubkey/rxdb</td>\n",
       "      <td>Objective-C</td>\n",
       "      <td>3</td>\n",
       "    </tr>\n",
       "    <tr>\n",
       "      <th>624</th>\n",
       "      <td>TypeScript</td>\n",
       "      <td>react-navigation/react-navigation</td>\n",
       "      <td>C</td>\n",
       "      <td>6</td>\n",
       "    </tr>\n",
       "    <tr>\n",
       "      <th>625</th>\n",
       "      <td>TypeScript</td>\n",
       "      <td>react-navigation/react-navigation</td>\n",
       "      <td>Objective-C</td>\n",
       "      <td>6</td>\n",
       "    </tr>\n",
       "    <tr>\n",
       "      <th>626</th>\n",
       "      <td>TypeScript</td>\n",
       "      <td>tensorflow/tfjs</td>\n",
       "      <td>Java</td>\n",
       "      <td>5</td>\n",
       "    </tr>\n",
       "    <tr>\n",
       "      <th>627</th>\n",
       "      <td>TypeScript</td>\n",
       "      <td>tensorflow/tfjs</td>\n",
       "      <td>Objective-C</td>\n",
       "      <td>1</td>\n",
       "    </tr>\n",
       "  </tbody>\n",
       "</table>\n",
       "<p>628 rows × 4 columns</p>\n",
       "</div>"
      ],
      "text/plain": [
       "    github_language                                 project file_language  \\\n",
       "0          Assembly      ReturnInfinity/BareMetal-OS-legacy    JavaScript   \n",
       "1          Assembly  algorithm-archivists/algorithm-archive      Assembly   \n",
       "2          Assembly  algorithm-archivists/algorithm-archive  CoffeeScript   \n",
       "3          Assembly  algorithm-archivists/algorithm-archive           Lua   \n",
       "4          Assembly                         cjdelisle/cjdns      Assembly   \n",
       "..              ...                                     ...           ...   \n",
       "623      TypeScript                             pubkey/rxdb   Objective-C   \n",
       "624      TypeScript       react-navigation/react-navigation             C   \n",
       "625      TypeScript       react-navigation/react-navigation   Objective-C   \n",
       "626      TypeScript                         tensorflow/tfjs          Java   \n",
       "627      TypeScript                         tensorflow/tfjs   Objective-C   \n",
       "\n",
       "     count  \n",
       "0        4  \n",
       "1        2  \n",
       "2        1  \n",
       "3        6  \n",
       "4        2  \n",
       "..     ...  \n",
       "623      3  \n",
       "624      6  \n",
       "625      6  \n",
       "626      5  \n",
       "627      1  \n",
       "\n",
       "[628 rows x 4 columns]"
      ]
     },
     "execution_count": 93,
     "metadata": {},
     "output_type": "execute_result"
    }
   ],
   "source": [
    "ignore_langs=commit_langs[commit_langs<=first_quartile_lang].reset_index(name='count')\n",
    "ignore_langs"
   ]
  },
  {
   "cell_type": "code",
   "execution_count": 94,
   "metadata": {},
   "outputs": [
    {
     "data": {
      "text/plain": [
       "337"
      ]
     },
     "execution_count": 94,
     "metadata": {},
     "output_type": "execute_result"
    }
   ],
   "source": [
    "projects_lang_ignore=ignore_langs.project.unique()\n",
    "len(projects_lang_ignore)"
   ]
  },
  {
   "cell_type": "code",
   "execution_count": 95,
   "metadata": {},
   "outputs": [
    {
     "name": "stderr",
     "output_type": "stream",
     "text": [
      "100%|██████████| 337/337 [10:53<00:00,  1.94s/it]\n"
     ]
    }
   ],
   "source": [
    "for project in tqdm(projects_lang_ignore):\n",
    "    file_langs=ignore_langs[ignore_langs['project']==project]['file_language'].tolist()\n",
    "    df=df[~(df['project'].isin([project]) &\n",
    "                          df.file_language.isin(file_langs))]"
   ]
  },
  {
   "cell_type": "code",
   "execution_count": 3,
   "metadata": {},
   "outputs": [
    {
     "data": {
      "text/html": [
       "<div>\n",
       "<style scoped>\n",
       "    .dataframe tbody tr th:only-of-type {\n",
       "        vertical-align: middle;\n",
       "    }\n",
       "\n",
       "    .dataframe tbody tr th {\n",
       "        vertical-align: top;\n",
       "    }\n",
       "\n",
       "    .dataframe thead th {\n",
       "        text-align: right;\n",
       "    }\n",
       "</style>\n",
       "<table border=\"1\" class=\"dataframe\">\n",
       "  <thead>\n",
       "    <tr style=\"text-align: right;\">\n",
       "      <th></th>\n",
       "      <th>sha</th>\n",
       "      <th>message</th>\n",
       "      <th>bugfix</th>\n",
       "    </tr>\n",
       "  </thead>\n",
       "  <tbody>\n",
       "    <tr>\n",
       "      <th>0</th>\n",
       "      <td>d6c53eb9142d1986e15b09435cb1191bd35c3aae</td>\n",
       "      <td>fix(client): report cross origin errors (#...</td>\n",
       "      <td>1</td>\n",
       "    </tr>\n",
       "    <tr>\n",
       "      <th>1</th>\n",
       "      <td>e154f38118be44b49e9a6a99dd88c447d008f9ac</td>\n",
       "      <td>added displayusername and username update ...</td>\n",
       "      <td>1</td>\n",
       "    </tr>\n",
       "    <tr>\n",
       "      <th>2</th>\n",
       "      <td>0f5b9f8764e580566dca1300563cba86359b98da</td>\n",
       "      <td>fix(client): temporary redirect for donati...</td>\n",
       "      <td>1</td>\n",
       "    </tr>\n",
       "    <tr>\n",
       "      <th>3</th>\n",
       "      <td>c40680b81e6c62332392ec6c66ccc5a2b17ebf2e</td>\n",
       "      <td>fix(client): remove donate settings page</td>\n",
       "      <td>1</td>\n",
       "    </tr>\n",
       "    <tr>\n",
       "      <th>4</th>\n",
       "      <td>6a91f7c5b2ba8ea5203bd7d934e07555486ef746</td>\n",
       "      <td>fix(client): add missing bootstrap contain...</td>\n",
       "      <td>1</td>\n",
       "    </tr>\n",
       "    <tr>\n",
       "      <th>5</th>\n",
       "      <td>3f075f91d86c22fb44a1c75c90d8a3ad5e5cec8d</td>\n",
       "      <td>feat: activate progress based donation mod...</td>\n",
       "      <td>0</td>\n",
       "    </tr>\n",
       "    <tr>\n",
       "      <th>6</th>\n",
       "      <td>f1ddec3f9bb5766bfeb88956adda238923d5212e</td>\n",
       "      <td>fix(donate): hide legacy tiers (#37853)</td>\n",
       "      <td>1</td>\n",
       "    </tr>\n",
       "    <tr>\n",
       "      <th>7</th>\n",
       "      <td>cb3524ee31764dbc02214e11891962356910e708</td>\n",
       "      <td>fix: simplify challenge teststring (#37826)</td>\n",
       "      <td>1</td>\n",
       "    </tr>\n",
       "    <tr>\n",
       "      <th>8</th>\n",
       "      <td>623c08cbfafac061bfa55a26baec48b581a41b74</td>\n",
       "      <td>fix: removed semi-colon from regex (#37881)</td>\n",
       "      <td>1</td>\n",
       "    </tr>\n",
       "    <tr>\n",
       "      <th>9</th>\n",
       "      <td>ccbc9cc6b67a8d3db4bba47d4a2d5a0b53badeb4</td>\n",
       "      <td>forum link fixed (#37260)</td>\n",
       "      <td>1</td>\n",
       "    </tr>\n",
       "  </tbody>\n",
       "</table>\n",
       "</div>"
      ],
      "text/plain": [
       "                                        sha  \\\n",
       "0  d6c53eb9142d1986e15b09435cb1191bd35c3aae   \n",
       "1  e154f38118be44b49e9a6a99dd88c447d008f9ac   \n",
       "2  0f5b9f8764e580566dca1300563cba86359b98da   \n",
       "3  c40680b81e6c62332392ec6c66ccc5a2b17ebf2e   \n",
       "4  6a91f7c5b2ba8ea5203bd7d934e07555486ef746   \n",
       "5  3f075f91d86c22fb44a1c75c90d8a3ad5e5cec8d   \n",
       "6  f1ddec3f9bb5766bfeb88956adda238923d5212e   \n",
       "7  cb3524ee31764dbc02214e11891962356910e708   \n",
       "8  623c08cbfafac061bfa55a26baec48b581a41b74   \n",
       "9  ccbc9cc6b67a8d3db4bba47d4a2d5a0b53badeb4   \n",
       "\n",
       "                                             message  bugfix  \n",
       "0      fix(client): report cross origin errors (#...       1  \n",
       "1      added displayusername and username update ...       1  \n",
       "2      fix(client): temporary redirect for donati...       1  \n",
       "3          fix(client): remove donate settings page        1  \n",
       "4      fix(client): add missing bootstrap contain...       1  \n",
       "5      feat: activate progress based donation mod...       0  \n",
       "6           fix(donate): hide legacy tiers (#37853)        1  \n",
       "7       fix: simplify challenge teststring (#37826)        1  \n",
       "8       fix: removed semi-colon from regex (#37881)        1  \n",
       "9                         forum link fixed (#37260)        1  "
      ]
     },
     "execution_count": 3,
     "metadata": {},
     "output_type": "execute_result"
    }
   ],
   "source": [
    "bug_fix_df=pd.read_csv('commit_classification.csv')\n",
    "bug_fix_df.head(10)"
   ]
  },
  {
   "cell_type": "code",
   "execution_count": 4,
   "metadata": {},
   "outputs": [],
   "source": [
    "def read_keywords(filename):\n",
    "    f=open(filename).read()\n",
    "    f=f.split('\\n')\n",
    "    keywords=[]\n",
    "    for keyword in f:\n",
    "        if keyword!='':\n",
    "            keywords.append(keyword)\n",
    "    return keywords"
   ]
  },
  {
   "cell_type": "code",
   "execution_count": 5,
   "metadata": {},
   "outputs": [],
   "source": [
    "#CAUSE\n",
    "Algo=read_keywords('keywords/algo_keywords.txt')\n",
    "Conc=read_keywords('keywords/Conc_keywords.txt')\n",
    "Mem=read_keywords('keywords/mem_keywords.txt')\n",
    "Prog=read_keywords('keywords/prog_keywords.txt')\n",
    "#IMPACT\n",
    "Sec=read_keywords('keywords/sec_keywords.txt')\n",
    "Perf=read_keywords('keywords/perf_keywords.txt')\n",
    "Fail=read_keywords('keywords/fail_keywords.txt')"
   ]
  },
  {
   "cell_type": "code",
   "execution_count": 6,
   "metadata": {},
   "outputs": [],
   "source": [
    "# #bug specific keywords\n",
    "# #used from 2016 paper\n",
    "# #CAUSE\n",
    "# Algo=['algorithm','algo']\n",
    "\n",
    "# Conc=['deadlock', 'race condition', 'synchronization error','mutex', 'semaphore',\n",
    "#       'starvation', 'locking', 'multiple threads']\n",
    "\n",
    "# Mem=['memory leak', 'null pointer', 'buffer overflow', 'heap overflow', 'dangling pointer',\n",
    "#      'double free','overflow', 'dangling pointer', 'double free','segmentation fault', 'segfault', 'space leak',\n",
    "#      'dereference', 'memory corruption', 'memory overrun', 'heap overrun']\n",
    "\n",
    "# Prog=['exception handling', 'error handling', 'type error','typo', 'compilation error', 'copy-paste error',\n",
    "#       'refactoring', 'missing switch case', 'faulty initialization', 'default value', 'declaration', 'syntax',\n",
    "#       'counter', 'signature', 'variable', 'regexp', 'cut-paste,error', 'operator', 'inconsistent name', 'parameter',\n",
    "#       'argument', 'procedure']\n",
    "\n",
    "# #IMPACT\n",
    "# Sec=['buffer overflow', 'security', 'password', 'oauth','ssl','vulnerability', 'attack']\n",
    "\n",
    "# Perf=['optimization problem','performance', 'latency','speed', 'delayed','throughput']\n",
    "\n",
    "# Fail=['reboot', 'crash', 'hang', 'restart', 'freeze']\n"
   ]
  },
  {
   "cell_type": "code",
   "execution_count": 7,
   "metadata": {},
   "outputs": [],
   "source": [
    "import numpy as np\n",
    "def categorize_cause(commit):\n",
    "    classes=['Algo','Conc','Mem','Prog']\n",
    "    hits=[0,0,0,0]\n",
    "    for keyword in Algo:\n",
    "        if keyword in commit:\n",
    "            hits[0]+=1\n",
    "    for keyword in Conc:\n",
    "        if keyword in commit:\n",
    "            hits[1]+=1\n",
    "    for keyword in Mem:\n",
    "        if keyword in commit:\n",
    "            hits[2]+=1\n",
    "    for keyword in Prog:\n",
    "        if keyword in commit:\n",
    "            hits[3]+=1\n",
    "    if np.sum(hits)==0:\n",
    "        return 'Unkn'\n",
    "    else:\n",
    "        return classes[np.argmax(hits)]\n",
    "\n",
    "def categorize_impact(commit):\n",
    "    classes=['Sec','Perf','Fail']\n",
    "    hits=[0,0,0]\n",
    "    for keyword in Sec:\n",
    "        if keyword in commit:\n",
    "            hits[0]+=1\n",
    "    for keyword in Perf:\n",
    "        if keyword in commit:\n",
    "            hits[1]+=1\n",
    "    for keyword in Fail:\n",
    "        if keyword in commit:\n",
    "            hits[2]+=1\n",
    "    if np.sum(hits)==0:\n",
    "        return 'Unkn'\n",
    "    else:\n",
    "        return classes[np.argmax(hits)]"
   ]
  },
  {
   "cell_type": "code",
   "execution_count": 8,
   "metadata": {},
   "outputs": [],
   "source": [
    "pos_bug_fix_df=bug_fix_df[bug_fix_df['bugfix']==1]"
   ]
  },
  {
   "cell_type": "code",
   "execution_count": 9,
   "metadata": {},
   "outputs": [],
   "source": [
    "import numpy as np\n",
    "np.random.seed(42)"
   ]
  },
  {
   "cell_type": "code",
   "execution_count": 10,
   "metadata": {},
   "outputs": [
    {
     "data": {
      "text/html": [
       "<div>\n",
       "<style scoped>\n",
       "    .dataframe tbody tr th:only-of-type {\n",
       "        vertical-align: middle;\n",
       "    }\n",
       "\n",
       "    .dataframe tbody tr th {\n",
       "        vertical-align: top;\n",
       "    }\n",
       "\n",
       "    .dataframe thead th {\n",
       "        text-align: right;\n",
       "    }\n",
       "</style>\n",
       "<table border=\"1\" class=\"dataframe\">\n",
       "  <thead>\n",
       "    <tr style=\"text-align: right;\">\n",
       "      <th></th>\n",
       "      <th>sha</th>\n",
       "      <th>message</th>\n",
       "      <th>bugfix</th>\n",
       "    </tr>\n",
       "  </thead>\n",
       "  <tbody>\n",
       "    <tr>\n",
       "      <th>4626936</th>\n",
       "      <td>219d44b08c350918b651c4ba806701b18d3d76fe</td>\n",
       "      <td>corrected tvos platform identifiers.      ...</td>\n",
       "      <td>1</td>\n",
       "    </tr>\n",
       "    <tr>\n",
       "      <th>4013971</th>\n",
       "      <td>2e2185165c8f7111c2df1ca180dfb29fb3878915</td>\n",
       "      <td>improve test suite  fix bug in set.global()</td>\n",
       "      <td>1</td>\n",
       "    </tr>\n",
       "    <tr>\n",
       "      <th>4695712</th>\n",
       "      <td>d8155bd7e33f08e3e799e999d5a4077608efc1c0</td>\n",
       "      <td>windows compatibility fixes          with ...</td>\n",
       "      <td>1</td>\n",
       "    </tr>\n",
       "    <tr>\n",
       "      <th>1598060</th>\n",
       "      <td>692175901dccb5c7a01f34763467a133886b5704</td>\n",
       "      <td>fix randomnodeprovider behavior on 32-bit ...</td>\n",
       "      <td>1</td>\n",
       "    </tr>\n",
       "    <tr>\n",
       "      <th>1215836</th>\n",
       "      <td>644a92f1582ceeda6981c0653a5e455f5ec43e3c</td>\n",
       "      <td>fix rollup on date fields that don't suppo...</td>\n",
       "      <td>1</td>\n",
       "    </tr>\n",
       "    <tr>\n",
       "      <th>...</th>\n",
       "      <td>...</td>\n",
       "      <td>...</td>\n",
       "      <td>...</td>\n",
       "    </tr>\n",
       "    <tr>\n",
       "      <th>107666</th>\n",
       "      <td>5f047fedfc5a166ff3092a0359bca8aa5f8cad11</td>\n",
       "      <td>fixed bad revert.</td>\n",
       "      <td>1</td>\n",
       "    </tr>\n",
       "    <tr>\n",
       "      <th>100998</th>\n",
       "      <td>34781f18cb75ded9ae29f4b78f5bacd079f76709</td>\n",
       "      <td>fix(ngsanitize): ensure `html` is a string...</td>\n",
       "      <td>1</td>\n",
       "    </tr>\n",
       "    <tr>\n",
       "      <th>1766288</th>\n",
       "      <td>3bd5a09b529c03bac354c9d48e688ed2aca934fd</td>\n",
       "      <td>bpf: fix formatting for bpf_perf_event_rea...</td>\n",
       "      <td>1</td>\n",
       "    </tr>\n",
       "    <tr>\n",
       "      <th>1060654</th>\n",
       "      <td>11731fcbcf97af8b9232b8dfc249302a21c4f71e</td>\n",
       "      <td>fixed some rendering problems with the boo...</td>\n",
       "      <td>1</td>\n",
       "    </tr>\n",
       "    <tr>\n",
       "      <th>81495</th>\n",
       "      <td>db39273a8a21d78e074b363473031af894787f27</td>\n",
       "      <td>doc: increase buffer.concat() documentatio...</td>\n",
       "      <td>1</td>\n",
       "    </tr>\n",
       "  </tbody>\n",
       "</table>\n",
       "<p>133688 rows × 3 columns</p>\n",
       "</div>"
      ],
      "text/plain": [
       "                                              sha  \\\n",
       "4626936  219d44b08c350918b651c4ba806701b18d3d76fe   \n",
       "4013971  2e2185165c8f7111c2df1ca180dfb29fb3878915   \n",
       "4695712  d8155bd7e33f08e3e799e999d5a4077608efc1c0   \n",
       "1598060  692175901dccb5c7a01f34763467a133886b5704   \n",
       "1215836  644a92f1582ceeda6981c0653a5e455f5ec43e3c   \n",
       "...                                           ...   \n",
       "107666   5f047fedfc5a166ff3092a0359bca8aa5f8cad11   \n",
       "100998   34781f18cb75ded9ae29f4b78f5bacd079f76709   \n",
       "1766288  3bd5a09b529c03bac354c9d48e688ed2aca934fd   \n",
       "1060654  11731fcbcf97af8b9232b8dfc249302a21c4f71e   \n",
       "81495    db39273a8a21d78e074b363473031af894787f27   \n",
       "\n",
       "                                                   message  bugfix  \n",
       "4626936      corrected tvos platform identifiers.      ...       1  \n",
       "4013971       improve test suite  fix bug in set.global()        1  \n",
       "4695712      windows compatibility fixes          with ...       1  \n",
       "1598060      fix randomnodeprovider behavior on 32-bit ...       1  \n",
       "1215836      fix rollup on date fields that don't suppo...       1  \n",
       "...                                                    ...     ...  \n",
       "107666                                  fixed bad revert.        1  \n",
       "100998       fix(ngsanitize): ensure `html` is a string...       1  \n",
       "1766288      bpf: fix formatting for bpf_perf_event_rea...       1  \n",
       "1060654      fixed some rendering problems with the boo...       1  \n",
       "81495        doc: increase buffer.concat() documentatio...       1  \n",
       "\n",
       "[133688 rows x 3 columns]"
      ]
     },
     "execution_count": 10,
     "metadata": {},
     "output_type": "execute_result"
    }
   ],
   "source": [
    "#without replacment\n",
    "random_sample=pos_bug_fix_df.sample(frac=0.1)\n",
    "random_sample"
   ]
  },
  {
   "cell_type": "code",
   "execution_count": 11,
   "metadata": {},
   "outputs": [],
   "source": [
    "random_sample['message']=random_sample['message'].astype(str)"
   ]
  },
  {
   "cell_type": "code",
   "execution_count": 12,
   "metadata": {},
   "outputs": [
    {
     "name": "stderr",
     "output_type": "stream",
     "text": [
      "/home/sarim/anaconda3/envs/deep/lib/python3.7/site-packages/tqdm/std.py:654: FutureWarning: The Panel class is removed from pandas. Accessing it from the top-level namespace will also be removed in the next version\n",
      "  from pandas import Panel\n"
     ]
    }
   ],
   "source": [
    "tqdm.pandas()"
   ]
  },
  {
   "cell_type": "code",
   "execution_count": 13,
   "metadata": {},
   "outputs": [
    {
     "name": "stderr",
     "output_type": "stream",
     "text": [
      "100%|██████████| 133688/133688 [00:03<00:00, 44042.71it/s]\n",
      "100%|██████████| 133688/133688 [00:01<00:00, 74846.92it/s]\n"
     ]
    }
   ],
   "source": [
    "random_sample['cause']=random_sample['message'].progress_apply(lambda x: categorize_cause(x))\n",
    "random_sample['impact']=random_sample['message'].progress_apply(lambda x: categorize_impact(x))"
   ]
  },
  {
   "cell_type": "code",
   "execution_count": 14,
   "metadata": {},
   "outputs": [
    {
     "data": {
      "text/plain": [
       "Unkn    100764\n",
       "Prog     21308\n",
       "Mem       6905\n",
       "Conc      2855\n",
       "Algo      1856\n",
       "Name: cause, dtype: int64"
      ]
     },
     "execution_count": 14,
     "metadata": {},
     "output_type": "execute_result"
    }
   ],
   "source": [
    "random_sample['cause'].value_counts()"
   ]
  },
  {
   "cell_type": "code",
   "execution_count": 15,
   "metadata": {},
   "outputs": [
    {
     "data": {
      "text/plain": [
       "Unkn    114074\n",
       "Fail     12772\n",
       "Sec       5011\n",
       "Perf      1831\n",
       "Name: impact, dtype: int64"
      ]
     },
     "execution_count": 15,
     "metadata": {},
     "output_type": "execute_result"
    }
   ],
   "source": [
    "random_sample['impact'].value_counts()"
   ]
  },
  {
   "cell_type": "code",
   "execution_count": 16,
   "metadata": {},
   "outputs": [
    {
     "data": {
      "text/plain": [
       "<matplotlib.axes._subplots.AxesSubplot at 0x7f7b24d84d68>"
      ]
     },
     "execution_count": 16,
     "metadata": {},
     "output_type": "execute_result"
    },
    {
     "data": {
      "image/png": "[encoded data removed]",
      "text/plain": [
       "<Figure size 432x288 with 1 Axes>"
      ]
     },
     "metadata": {
      "needs_background": "light"
     },
     "output_type": "display_data"
    }
   ],
   "source": [
    "random_sample['cause'].value_counts().plot(kind='bar',logy=True)"
   ]
  },
  {
   "cell_type": "code",
   "execution_count": 17,
   "metadata": {},
   "outputs": [
    {
     "data": {
      "text/plain": [
       "<matplotlib.axes._subplots.AxesSubplot at 0x7f7b24d84d30>"
      ]
     },
     "execution_count": 17,
     "metadata": {},
     "output_type": "execute_result"
    },
    {
     "data": {
      "image/png": "[encoded data removed]",
      "text/plain": [
       "<Figure size 432x288 with 1 Axes>"
      ]
     },
     "metadata": {
      "needs_background": "light"
     },
     "output_type": "display_data"
    }
   ],
   "source": [
    "random_sample['impact'].value_counts().plot(kind='bar',logy=True)"
   ]
  },
  {
   "cell_type": "code",
   "execution_count": 18,
   "metadata": {
    "scrolled": true
   },
   "outputs": [
    {
     "data": {
      "text/html": [
       "<div>\n",
       "<style scoped>\n",
       "    .dataframe tbody tr th:only-of-type {\n",
       "        vertical-align: middle;\n",
       "    }\n",
       "\n",
       "    .dataframe tbody tr th {\n",
       "        vertical-align: top;\n",
       "    }\n",
       "\n",
       "    .dataframe thead th {\n",
       "        text-align: right;\n",
       "    }\n",
       "</style>\n",
       "<table border=\"1\" class=\"dataframe\">\n",
       "  <thead>\n",
       "    <tr style=\"text-align: right;\">\n",
       "      <th></th>\n",
       "      <th>sha</th>\n",
       "      <th>message</th>\n",
       "      <th>bugfix</th>\n",
       "      <th>cause</th>\n",
       "      <th>impact</th>\n",
       "    </tr>\n",
       "  </thead>\n",
       "  <tbody>\n",
       "    <tr>\n",
       "      <th>4626936</th>\n",
       "      <td>219d44b08c350918b651c4ba806701b18d3d76fe</td>\n",
       "      <td>corrected tvos platform identifiers.      ...</td>\n",
       "      <td>1</td>\n",
       "      <td>Unkn</td>\n",
       "      <td>Unkn</td>\n",
       "    </tr>\n",
       "    <tr>\n",
       "      <th>4013971</th>\n",
       "      <td>2e2185165c8f7111c2df1ca180dfb29fb3878915</td>\n",
       "      <td>improve test suite  fix bug in set.global()</td>\n",
       "      <td>1</td>\n",
       "      <td>Unkn</td>\n",
       "      <td>Unkn</td>\n",
       "    </tr>\n",
       "    <tr>\n",
       "      <th>1598060</th>\n",
       "      <td>692175901dccb5c7a01f34763467a133886b5704</td>\n",
       "      <td>fix randomnodeprovider behavior on 32-bit ...</td>\n",
       "      <td>1</td>\n",
       "      <td>Unkn</td>\n",
       "      <td>Unkn</td>\n",
       "    </tr>\n",
       "    <tr>\n",
       "      <th>4248273</th>\n",
       "      <td>a3587beffef661e9bee6f1a31551f862c4caa3f3</td>\n",
       "      <td>arm: looprestoration: fix a comment to use...</td>\n",
       "      <td>1</td>\n",
       "      <td>Unkn</td>\n",
       "      <td>Unkn</td>\n",
       "    </tr>\n",
       "    <tr>\n",
       "      <th>667235</th>\n",
       "      <td>fc60bcecd6a0e38dd6fc5d5073f46053332af5a7</td>\n",
       "      <td>fixed not being able to pass the key via c...</td>\n",
       "      <td>1</td>\n",
       "      <td>Unkn</td>\n",
       "      <td>Unkn</td>\n",
       "    </tr>\n",
       "    <tr>\n",
       "      <th>...</th>\n",
       "      <td>...</td>\n",
       "      <td>...</td>\n",
       "      <td>...</td>\n",
       "      <td>...</td>\n",
       "      <td>...</td>\n",
       "    </tr>\n",
       "    <tr>\n",
       "      <th>967828</th>\n",
       "      <td>bfbae50e5a64c6417197cd0d793d955d537610c1</td>\n",
       "      <td>update a few things for the asset pipeline...</td>\n",
       "      <td>1</td>\n",
       "      <td>Unkn</td>\n",
       "      <td>Unkn</td>\n",
       "    </tr>\n",
       "    <tr>\n",
       "      <th>2107810</th>\n",
       "      <td>0abb6aeacc20822cd7baee82fd3b61169ca3f32e</td>\n",
       "      <td>arm: dts: correct the base address of pinc...</td>\n",
       "      <td>1</td>\n",
       "      <td>Unkn</td>\n",
       "      <td>Unkn</td>\n",
       "    </tr>\n",
       "    <tr>\n",
       "      <th>107666</th>\n",
       "      <td>5f047fedfc5a166ff3092a0359bca8aa5f8cad11</td>\n",
       "      <td>fixed bad revert.</td>\n",
       "      <td>1</td>\n",
       "      <td>Unkn</td>\n",
       "      <td>Unkn</td>\n",
       "    </tr>\n",
       "    <tr>\n",
       "      <th>1766288</th>\n",
       "      <td>3bd5a09b529c03bac354c9d48e688ed2aca934fd</td>\n",
       "      <td>bpf: fix formatting for bpf_perf_event_rea...</td>\n",
       "      <td>1</td>\n",
       "      <td>Unkn</td>\n",
       "      <td>Unkn</td>\n",
       "    </tr>\n",
       "    <tr>\n",
       "      <th>81495</th>\n",
       "      <td>db39273a8a21d78e074b363473031af894787f27</td>\n",
       "      <td>doc: increase buffer.concat() documentatio...</td>\n",
       "      <td>1</td>\n",
       "      <td>Unkn</td>\n",
       "      <td>Unkn</td>\n",
       "    </tr>\n",
       "  </tbody>\n",
       "</table>\n",
       "<p>86952 rows × 5 columns</p>\n",
       "</div>"
      ],
      "text/plain": [
       "                                              sha  \\\n",
       "4626936  219d44b08c350918b651c4ba806701b18d3d76fe   \n",
       "4013971  2e2185165c8f7111c2df1ca180dfb29fb3878915   \n",
       "1598060  692175901dccb5c7a01f34763467a133886b5704   \n",
       "4248273  a3587beffef661e9bee6f1a31551f862c4caa3f3   \n",
       "667235   fc60bcecd6a0e38dd6fc5d5073f46053332af5a7   \n",
       "...                                           ...   \n",
       "967828   bfbae50e5a64c6417197cd0d793d955d537610c1   \n",
       "2107810  0abb6aeacc20822cd7baee82fd3b61169ca3f32e   \n",
       "107666   5f047fedfc5a166ff3092a0359bca8aa5f8cad11   \n",
       "1766288  3bd5a09b529c03bac354c9d48e688ed2aca934fd   \n",
       "81495    db39273a8a21d78e074b363473031af894787f27   \n",
       "\n",
       "                                                   message  bugfix cause  \\\n",
       "4626936      corrected tvos platform identifiers.      ...       1  Unkn   \n",
       "4013971       improve test suite  fix bug in set.global()        1  Unkn   \n",
       "1598060      fix randomnodeprovider behavior on 32-bit ...       1  Unkn   \n",
       "4248273      arm: looprestoration: fix a comment to use...       1  Unkn   \n",
       "667235       fixed not being able to pass the key via c...       1  Unkn   \n",
       "...                                                    ...     ...   ...   \n",
       "967828       update a few things for the asset pipeline...       1  Unkn   \n",
       "2107810      arm: dts: correct the base address of pinc...       1  Unkn   \n",
       "107666                                  fixed bad revert.        1  Unkn   \n",
       "1766288      bpf: fix formatting for bpf_perf_event_rea...       1  Unkn   \n",
       "81495        doc: increase buffer.concat() documentatio...       1  Unkn   \n",
       "\n",
       "        impact  \n",
       "4626936   Unkn  \n",
       "4013971   Unkn  \n",
       "1598060   Unkn  \n",
       "4248273   Unkn  \n",
       "667235    Unkn  \n",
       "...        ...  \n",
       "967828    Unkn  \n",
       "2107810   Unkn  \n",
       "107666    Unkn  \n",
       "1766288   Unkn  \n",
       "81495     Unkn  \n",
       "\n",
       "[86952 rows x 5 columns]"
      ]
     },
     "execution_count": 18,
     "metadata": {},
     "output_type": "execute_result"
    }
   ],
   "source": [
    "temp_unkn=random_sample[random_sample['impact']=='Unkn']\n",
    "temp_unkn=temp_unkn[temp_unkn['cause']=='Unkn']\n",
    "temp_unkn"
   ]
  },
  {
   "cell_type": "code",
   "execution_count": 19,
   "metadata": {},
   "outputs": [
    {
     "name": "stdout",
     "output_type": "stream",
     "text": [
      "[('the', 63357), ('fix', 44372), ('to', 38480), ('in', 30166), ('a', 23297), ('for', 22628), ('is', 20371), ('and', 19888), ('of', 19199), ('fixes', 15334), ('signed-off-by:', 14953), ('this', 14641), ('on', 12426), ('when', 12051), ('*', 11992), ('not', 11489), ('with', 10666), ('fixed', 10372), ('it', 10224), ('that', 10085), ('if', 8736), ('from', 7976), ('be', 7784), ('by', 7220), ('we', 6925), ('as', 6701), ('add', 6427), ('-', 6384), ('bug', 5980), ('an', 5742), ('was', 5350), ('error', 5332), ('use', 5039), ('are', 4765), ('git-svn-id:', 4560), ('issue', 3727), ('so', 3682), ('some', 3669), ('code', 3667), ('which', 3608), ('but', 3434), ('should', 3372), ('missing', 3244), ('will', 3192), ('only', 3113), ('patch', 3097), ('set', 3080), ('test', 3000), ('check', 2978), ('can', 2954), ('remove', 2925), ('build', 2909), ('no', 2779), ('added', 2759), ('have', 2737), ('at', 2733), ('update', 2720), ('return', 2719), ('make', 2702), ('all', 2687), ('after', 2682), ('also', 2604), ('file', 2576), ('before', 2523), ('using', 2487), ('or', 2467), (\"don't\", 2451), ('commit', 2410), ('has', 2379), ('support', 2369), ('up', 2364), ('new', 2271), ('function', 2239), ('do', 2201), ('instead', 2177), ('more', 2141), ('value', 2129), ('used', 2126), ('correct', 2069), ('now', 1937), ('case', 1921), ('fix:', 1898), ('i', 1894), ('where', 1836), ('because', 1796), ('one', 1774), ('driver', 1767), ('closes', 1743), ('there', 1710), ('being', 1657), ('fixing', 1630), ('data', 1628), ('does', 1625), ('avoid', 1620), ('errors', 1593), ('would', 1590), ('name', 1580), ('svn', 1577), ('issues', 1569), ('1a063a9b-81f0-0310-95a4-ce76da25c4cd', 1565)]\n"
     ]
    }
   ],
   "source": [
    "# Python program to find the k most frequent words \n",
    "# from data set \n",
    "from collections import Counter \n",
    "# Pass the split_it list to instance of Counter class. \n",
    "Counter = Counter(temp_unkn['message'].str.cat(sep=' ').split())\n",
    "  \n",
    "# most_common() produces k frequently encountered \n",
    "# input values and their respective counts. \n",
    "most_occur = Counter.most_common(100) \n",
    "  \n",
    "print(most_occur)"
   ]
  },
  {
   "cell_type": "code",
   "execution_count": 20,
   "metadata": {
    "scrolled": true
   },
   "outputs": [],
   "source": [
    "temp_impact=random_sample[random_sample['impact']!='Unkn']\n",
    "temp_cause=random_sample[random_sample['cause']!='Unkn']"
   ]
  },
  {
   "cell_type": "code",
   "execution_count": 66,
   "metadata": {},
   "outputs": [
    {
     "data": {
      "text/plain": [
       "TfidfVectorizer(analyzer='word', binary=False, decode_error='strict',\n",
       "                dtype=<class 'numpy.float64'>, encoding='utf-8',\n",
       "                input='content', lowercase=True, max_df=1.0, max_features=4096,\n",
       "                min_df=2, ngram_range=(1, 1), norm='l2', preprocessor=None,\n",
       "                smooth_idf=True, stop_words='english', strip_accents=None,\n",
       "                sublinear_tf=False, token_pattern='(?u)\\\\b\\\\w\\\\w+\\\\b',\n",
       "                tokenizer=None, use_idf=True, vocabulary=None)"
      ]
     },
     "execution_count": 66,
     "metadata": {},
     "output_type": "execute_result"
    }
   ],
   "source": [
    "from sklearn.feature_extraction.text import CountVectorizer\n",
    "from sklearn.feature_extraction.text import TfidfVectorizer\n",
    "vectorizer = TfidfVectorizer(min_df=2,stop_words='english',max_features=4096)\n",
    "vectorizer.fit(random_sample['message'])"
   ]
  },
  {
   "cell_type": "code",
   "execution_count": 67,
   "metadata": {},
   "outputs": [],
   "source": [
    "X_cause=vectorizer.transform(temp_cause['message'].values)\n",
    "X_impact=vectorizer.transform(temp_impact['message'].values)\n",
    "\n",
    "y_cause=temp_cause['cause'].values\n",
    "y_impact=temp_impact['impact'].values"
   ]
  },
  {
   "cell_type": "code",
   "execution_count": 68,
   "metadata": {},
   "outputs": [],
   "source": [
    "from sklearn.metrics import classification_report\n",
    "from sklearn.model_selection import train_test_split"
   ]
  },
  {
   "cell_type": "code",
   "execution_count": 69,
   "metadata": {},
   "outputs": [],
   "source": [
    "X_train_cause, X_test_cause, y_train_cause, y_test_cause = train_test_split(X_cause, y_cause,\n",
    "                                                                            test_size=0.33, random_state=42)\n",
    "X_train_impact, X_test_impact, y_train_impact, y_test_impact = train_test_split(X_impact, y_impact,\n",
    "                                                    test_size=0.33, random_state=42)"
   ]
  },
  {
   "cell_type": "code",
   "execution_count": 70,
   "metadata": {},
   "outputs": [],
   "source": [
    "from sklearn.ensemble import ExtraTreesClassifier"
   ]
  },
  {
   "cell_type": "code",
   "execution_count": 71,
   "metadata": {},
   "outputs": [
    {
     "name": "stderr",
     "output_type": "stream",
     "text": [
      "/home/sarim/anaconda3/envs/deep/lib/python3.7/site-packages/sklearn/ensemble/forest.py:245: FutureWarning: The default value of n_estimators will change from 10 in version 0.20 to 100 in 0.22.\n",
      "  \"10 in version 0.20 to 100 in 0.22.\", FutureWarning)\n"
     ]
    },
    {
     "name": "stdout",
     "output_type": "stream",
     "text": [
      "              precision    recall  f1-score   support\n",
      "\n",
      "        Algo       0.97      0.71      0.82       640\n",
      "        Conc       0.90      0.78      0.84       943\n",
      "         Mem       0.89      0.84      0.86      2294\n",
      "        Prog       0.92      0.97      0.94      6988\n",
      "\n",
      "    accuracy                           0.91     10865\n",
      "   macro avg       0.92      0.83      0.87     10865\n",
      "weighted avg       0.91      0.91      0.91     10865\n",
      "\n"
     ]
    }
   ],
   "source": [
    "clf_cause = ExtraTreesClassifier(n_jobs=-1,random_state=42)\n",
    "clf_cause.fit(X_train_cause, y_train_cause)\n",
    "y_pred_cause=clf_cause.predict(X_test_cause)\n",
    "print(classification_report(y_test_cause, y_pred_cause))"
   ]
  },
  {
   "cell_type": "code",
   "execution_count": 72,
   "metadata": {},
   "outputs": [
    {
     "name": "stderr",
     "output_type": "stream",
     "text": [
      "/home/sarim/anaconda3/envs/deep/lib/python3.7/site-packages/sklearn/ensemble/forest.py:245: FutureWarning: The default value of n_estimators will change from 10 in version 0.20 to 100 in 0.22.\n",
      "  \"10 in version 0.20 to 100 in 0.22.\", FutureWarning)\n"
     ]
    },
    {
     "name": "stdout",
     "output_type": "stream",
     "text": [
      "              precision    recall  f1-score   support\n",
      "\n",
      "        Fail       0.90      0.98      0.94      4260\n",
      "        Perf       0.94      0.74      0.83       609\n",
      "         Sec       0.91      0.78      0.84      1604\n",
      "\n",
      "    accuracy                           0.90      6473\n",
      "   macro avg       0.92      0.83      0.87      6473\n",
      "weighted avg       0.91      0.90      0.90      6473\n",
      "\n"
     ]
    }
   ],
   "source": [
    "clf_impact = ExtraTreesClassifier(n_jobs=-1,random_state=42)\n",
    "clf_impact.fit(X_train_impact, y_train_impact) \n",
    "y_pred_impact=clf_impact.predict(X_test_impact)\n",
    "print(classification_report(y_test_impact, y_pred_impact))"
   ]
  },
  {
   "cell_type": "code",
   "execution_count": 73,
   "metadata": {},
   "outputs": [],
   "source": [
    "del(X_cause)\n",
    "del(X_impact)\n",
    "del(X_train_impact)\n",
    "del(X_train_cause)\n",
    "del(X_test_cause)\n",
    "del(X_test_impact)"
   ]
  },
  {
   "cell_type": "code",
   "execution_count": 74,
   "metadata": {},
   "outputs": [],
   "source": [
    "bug_fix_df['message']=bug_fix_df['message'].astype(str)"
   ]
  },
  {
   "cell_type": "code",
   "execution_count": 75,
   "metadata": {},
   "outputs": [],
   "source": [
    "vectors=vectorizer.transform(bug_fix_df['message'])\n",
    "cause_preds=clf_cause.predict(vectors)\n",
    "impact_preds=clf_impact.predict(vectors)"
   ]
  },
  {
   "cell_type": "code",
   "execution_count": 76,
   "metadata": {},
   "outputs": [],
   "source": [
    "counter=0\n",
    "def categorize_commits(record):\n",
    "    #print(record)\n",
    "    global counter\n",
    "    response={'Algo':0,\n",
    "             'Conc':0,\n",
    "             'Mem':0,\n",
    "             'Prog':0,\n",
    "              'Fail':0,\n",
    "              'Perf':0,\n",
    "              'Sec':0\n",
    "             }\n",
    "    if record['bugfix']==1:\n",
    "        response[cause_preds[counter]]+=1\n",
    "        response[impact_preds[counter]]+=1\n",
    "    counter+=1\n",
    "    return list(response.values())"
   ]
  },
  {
   "cell_type": "code",
   "execution_count": 77,
   "metadata": {},
   "outputs": [
    {
     "name": "stderr",
     "output_type": "stream",
     "text": [
      "100%|██████████| 4909387/4909387 [01:03<00:00, 76954.16it/s]\n"
     ]
    }
   ],
   "source": [
    "results=bug_fix_df.progress_apply(categorize_commits,axis=1)"
   ]
  },
  {
   "cell_type": "code",
   "execution_count": 78,
   "metadata": {},
   "outputs": [],
   "source": [
    "preds=[]\n",
    "for result in results:\n",
    "    preds.append(result)"
   ]
  },
  {
   "cell_type": "code",
   "execution_count": 79,
   "metadata": {},
   "outputs": [
    {
     "data": {
      "text/html": [
       "<div>\n",
       "<style scoped>\n",
       "    .dataframe tbody tr th:only-of-type {\n",
       "        vertical-align: middle;\n",
       "    }\n",
       "\n",
       "    .dataframe tbody tr th {\n",
       "        vertical-align: top;\n",
       "    }\n",
       "\n",
       "    .dataframe thead th {\n",
       "        text-align: right;\n",
       "    }\n",
       "</style>\n",
       "<table border=\"1\" class=\"dataframe\">\n",
       "  <thead>\n",
       "    <tr style=\"text-align: right;\">\n",
       "      <th></th>\n",
       "      <th>Algo</th>\n",
       "      <th>Conc</th>\n",
       "      <th>Mem</th>\n",
       "      <th>Prog</th>\n",
       "      <th>Fail</th>\n",
       "      <th>Perf</th>\n",
       "      <th>Sec</th>\n",
       "    </tr>\n",
       "  </thead>\n",
       "  <tbody>\n",
       "    <tr>\n",
       "      <th>0</th>\n",
       "      <td>0</td>\n",
       "      <td>0</td>\n",
       "      <td>0</td>\n",
       "      <td>1</td>\n",
       "      <td>1</td>\n",
       "      <td>0</td>\n",
       "      <td>0</td>\n",
       "    </tr>\n",
       "    <tr>\n",
       "      <th>1</th>\n",
       "      <td>0</td>\n",
       "      <td>0</td>\n",
       "      <td>0</td>\n",
       "      <td>1</td>\n",
       "      <td>1</td>\n",
       "      <td>0</td>\n",
       "      <td>0</td>\n",
       "    </tr>\n",
       "    <tr>\n",
       "      <th>2</th>\n",
       "      <td>0</td>\n",
       "      <td>0</td>\n",
       "      <td>0</td>\n",
       "      <td>1</td>\n",
       "      <td>0</td>\n",
       "      <td>0</td>\n",
       "      <td>1</td>\n",
       "    </tr>\n",
       "    <tr>\n",
       "      <th>3</th>\n",
       "      <td>0</td>\n",
       "      <td>0</td>\n",
       "      <td>0</td>\n",
       "      <td>1</td>\n",
       "      <td>0</td>\n",
       "      <td>0</td>\n",
       "      <td>1</td>\n",
       "    </tr>\n",
       "    <tr>\n",
       "      <th>4</th>\n",
       "      <td>0</td>\n",
       "      <td>0</td>\n",
       "      <td>0</td>\n",
       "      <td>1</td>\n",
       "      <td>0</td>\n",
       "      <td>0</td>\n",
       "      <td>1</td>\n",
       "    </tr>\n",
       "    <tr>\n",
       "      <th>...</th>\n",
       "      <td>...</td>\n",
       "      <td>...</td>\n",
       "      <td>...</td>\n",
       "      <td>...</td>\n",
       "      <td>...</td>\n",
       "      <td>...</td>\n",
       "      <td>...</td>\n",
       "    </tr>\n",
       "    <tr>\n",
       "      <th>4909382</th>\n",
       "      <td>0</td>\n",
       "      <td>0</td>\n",
       "      <td>0</td>\n",
       "      <td>0</td>\n",
       "      <td>0</td>\n",
       "      <td>0</td>\n",
       "      <td>0</td>\n",
       "    </tr>\n",
       "    <tr>\n",
       "      <th>4909383</th>\n",
       "      <td>0</td>\n",
       "      <td>0</td>\n",
       "      <td>0</td>\n",
       "      <td>0</td>\n",
       "      <td>0</td>\n",
       "      <td>0</td>\n",
       "      <td>0</td>\n",
       "    </tr>\n",
       "    <tr>\n",
       "      <th>4909384</th>\n",
       "      <td>0</td>\n",
       "      <td>0</td>\n",
       "      <td>0</td>\n",
       "      <td>0</td>\n",
       "      <td>0</td>\n",
       "      <td>0</td>\n",
       "      <td>0</td>\n",
       "    </tr>\n",
       "    <tr>\n",
       "      <th>4909385</th>\n",
       "      <td>0</td>\n",
       "      <td>0</td>\n",
       "      <td>0</td>\n",
       "      <td>0</td>\n",
       "      <td>0</td>\n",
       "      <td>0</td>\n",
       "      <td>0</td>\n",
       "    </tr>\n",
       "    <tr>\n",
       "      <th>4909386</th>\n",
       "      <td>0</td>\n",
       "      <td>0</td>\n",
       "      <td>0</td>\n",
       "      <td>1</td>\n",
       "      <td>1</td>\n",
       "      <td>0</td>\n",
       "      <td>0</td>\n",
       "    </tr>\n",
       "  </tbody>\n",
       "</table>\n",
       "<p>4909387 rows × 7 columns</p>\n",
       "</div>"
      ],
      "text/plain": [
       "         Algo  Conc  Mem  Prog  Fail  Perf  Sec\n",
       "0           0     0    0     1     1     0    0\n",
       "1           0     0    0     1     1     0    0\n",
       "2           0     0    0     1     0     0    1\n",
       "3           0     0    0     1     0     0    1\n",
       "4           0     0    0     1     0     0    1\n",
       "...       ...   ...  ...   ...   ...   ...  ...\n",
       "4909382     0     0    0     0     0     0    0\n",
       "4909383     0     0    0     0     0     0    0\n",
       "4909384     0     0    0     0     0     0    0\n",
       "4909385     0     0    0     0     0     0    0\n",
       "4909386     0     0    0     1     1     0    0\n",
       "\n",
       "[4909387 rows x 7 columns]"
      ]
     },
     "execution_count": 79,
     "metadata": {},
     "output_type": "execute_result"
    }
   ],
   "source": [
    "preds_df=pd.DataFrame(preds,columns = ['Algo','Conc','Mem','Prog','Fail','Perf','Sec'])\n",
    "preds_df"
   ]
  },
  {
   "cell_type": "code",
   "execution_count": 80,
   "metadata": {},
   "outputs": [
    {
     "data": {
      "text/html": [
       "<div>\n",
       "<style scoped>\n",
       "    .dataframe tbody tr th:only-of-type {\n",
       "        vertical-align: middle;\n",
       "    }\n",
       "\n",
       "    .dataframe tbody tr th {\n",
       "        vertical-align: top;\n",
       "    }\n",
       "\n",
       "    .dataframe thead th {\n",
       "        text-align: right;\n",
       "    }\n",
       "</style>\n",
       "<table border=\"1\" class=\"dataframe\">\n",
       "  <thead>\n",
       "    <tr style=\"text-align: right;\">\n",
       "      <th></th>\n",
       "      <th>sha</th>\n",
       "      <th>message</th>\n",
       "      <th>bugfix</th>\n",
       "    </tr>\n",
       "  </thead>\n",
       "  <tbody>\n",
       "    <tr>\n",
       "      <th>0</th>\n",
       "      <td>d6c53eb9142d1986e15b09435cb1191bd35c3aae</td>\n",
       "      <td>fix(client): report cross origin errors (#...</td>\n",
       "      <td>1</td>\n",
       "    </tr>\n",
       "    <tr>\n",
       "      <th>1</th>\n",
       "      <td>e154f38118be44b49e9a6a99dd88c447d008f9ac</td>\n",
       "      <td>added displayusername and username update ...</td>\n",
       "      <td>1</td>\n",
       "    </tr>\n",
       "    <tr>\n",
       "      <th>2</th>\n",
       "      <td>0f5b9f8764e580566dca1300563cba86359b98da</td>\n",
       "      <td>fix(client): temporary redirect for donati...</td>\n",
       "      <td>1</td>\n",
       "    </tr>\n",
       "    <tr>\n",
       "      <th>3</th>\n",
       "      <td>c40680b81e6c62332392ec6c66ccc5a2b17ebf2e</td>\n",
       "      <td>fix(client): remove donate settings page</td>\n",
       "      <td>1</td>\n",
       "    </tr>\n",
       "    <tr>\n",
       "      <th>4</th>\n",
       "      <td>6a91f7c5b2ba8ea5203bd7d934e07555486ef746</td>\n",
       "      <td>fix(client): add missing bootstrap contain...</td>\n",
       "      <td>1</td>\n",
       "    </tr>\n",
       "    <tr>\n",
       "      <th>...</th>\n",
       "      <td>...</td>\n",
       "      <td>...</td>\n",
       "      <td>...</td>\n",
       "    </tr>\n",
       "    <tr>\n",
       "      <th>4909382</th>\n",
       "      <td>d35cd37ea2ca77adfc691a699ea5dd1e36280d14</td>\n",
       "      <td>adding readme.</td>\n",
       "      <td>0</td>\n",
       "    </tr>\n",
       "    <tr>\n",
       "      <th>4909383</th>\n",
       "      <td>e851fd1826caceb6591191e6c0b6dd160afd9b76</td>\n",
       "      <td>mass import of the awesomewm lua signal sy...</td>\n",
       "      <td>0</td>\n",
       "    </tr>\n",
       "    <tr>\n",
       "      <th>4909384</th>\n",
       "      <td>106f58e177f21fd1651d95871612e2fa10abb36d</td>\n",
       "      <td>add signal hash table constructor/destruct...</td>\n",
       "      <td>0</td>\n",
       "    </tr>\n",
       "    <tr>\n",
       "      <th>4909385</th>\n",
       "      <td>21badf4cf3199491cd0c513a746eafcbed174a4c</td>\n",
       "      <td>renamed lua functions file and added some ...</td>\n",
       "      <td>0</td>\n",
       "    </tr>\n",
       "    <tr>\n",
       "      <th>4909386</th>\n",
       "      <td>f75a3a5dbf5329578ae82c2a0ef79d34370c8df1</td>\n",
       "      <td>an update  now with working webviews!     ...</td>\n",
       "      <td>1</td>\n",
       "    </tr>\n",
       "  </tbody>\n",
       "</table>\n",
       "<p>4909387 rows × 3 columns</p>\n",
       "</div>"
      ],
      "text/plain": [
       "                                              sha  \\\n",
       "0        d6c53eb9142d1986e15b09435cb1191bd35c3aae   \n",
       "1        e154f38118be44b49e9a6a99dd88c447d008f9ac   \n",
       "2        0f5b9f8764e580566dca1300563cba86359b98da   \n",
       "3        c40680b81e6c62332392ec6c66ccc5a2b17ebf2e   \n",
       "4        6a91f7c5b2ba8ea5203bd7d934e07555486ef746   \n",
       "...                                           ...   \n",
       "4909382  d35cd37ea2ca77adfc691a699ea5dd1e36280d14   \n",
       "4909383  e851fd1826caceb6591191e6c0b6dd160afd9b76   \n",
       "4909384  106f58e177f21fd1651d95871612e2fa10abb36d   \n",
       "4909385  21badf4cf3199491cd0c513a746eafcbed174a4c   \n",
       "4909386  f75a3a5dbf5329578ae82c2a0ef79d34370c8df1   \n",
       "\n",
       "                                                   message  bugfix  \n",
       "0            fix(client): report cross origin errors (#...       1  \n",
       "1            added displayusername and username update ...       1  \n",
       "2            fix(client): temporary redirect for donati...       1  \n",
       "3                fix(client): remove donate settings page        1  \n",
       "4            fix(client): add missing bootstrap contain...       1  \n",
       "...                                                    ...     ...  \n",
       "4909382                                    adding readme.        0  \n",
       "4909383      mass import of the awesomewm lua signal sy...       0  \n",
       "4909384      add signal hash table constructor/destruct...       0  \n",
       "4909385      renamed lua functions file and added some ...       0  \n",
       "4909386      an update  now with working webviews!     ...       1  \n",
       "\n",
       "[4909387 rows x 3 columns]"
      ]
     },
     "execution_count": 80,
     "metadata": {},
     "output_type": "execute_result"
    }
   ],
   "source": [
    "bug_fix_df"
   ]
  },
  {
   "cell_type": "code",
   "execution_count": 81,
   "metadata": {},
   "outputs": [],
   "source": [
    "bug_fix_df=pd.concat([bug_fix_df,preds_df],axis=1)"
   ]
  },
  {
   "cell_type": "code",
   "execution_count": 96,
   "metadata": {},
   "outputs": [],
   "source": [
    "df['message']=df['message'].astype(str)"
   ]
  },
  {
   "cell_type": "code",
   "execution_count": 97,
   "metadata": {},
   "outputs": [],
   "source": [
    "df=df.merge(bug_fix_df,on='message',how='left')\n",
    "df.drop(['is_bug','sha_y'],axis=1,inplace=True)"
   ]
  },
  {
   "cell_type": "code",
   "execution_count": 98,
   "metadata": {},
   "outputs": [],
   "source": [
    "df.to_csv('dataset_bugtype.csv',index=False)"
   ]
  },
  {
   "cell_type": "code",
   "execution_count": 99,
   "metadata": {},
   "outputs": [
    {
     "data": {
      "text/plain": [
       "date                object\n",
       "commiter            object\n",
       "commit_insertion    object\n",
       "commit_deletion     object\n",
       "file_language       object\n",
       "filename            object\n",
       "sha_x               object\n",
       "message             object\n",
       "project             object\n",
       "github_language     object\n",
       "bugfix               int64\n",
       "Algo                 int64\n",
       "Conc                 int64\n",
       "Mem                  int64\n",
       "Prog                 int64\n",
       "Fail                 int64\n",
       "Perf                 int64\n",
       "Sec                  int64\n",
       "dtype: object"
      ]
     },
     "execution_count": 99,
     "metadata": {},
     "output_type": "execute_result"
    }
   ],
   "source": [
    "df.dtypes"
   ]
  },
  {
   "cell_type": "code",
   "execution_count": 100,
   "metadata": {},
   "outputs": [
    {
     "data": {
      "text/plain": [
       "Index(['date', 'commiter', 'commit_insertion', 'commit_deletion',\n",
       "       'file_language', 'filename', 'sha_x', 'message', 'project',\n",
       "       'github_language', 'bugfix', 'Algo', 'Conc', 'Mem', 'Prog', 'Fail',\n",
       "       'Perf', 'Sec'],\n",
       "      dtype='object')"
      ]
     },
     "execution_count": 100,
     "metadata": {},
     "output_type": "execute_result"
    }
   ],
   "source": [
    "df.columns"
   ]
  },
  {
   "cell_type": "code",
   "execution_count": 101,
   "metadata": {},
   "outputs": [
    {
     "data": {
      "text/plain": [
       "626"
      ]
     },
     "execution_count": 101,
     "metadata": {},
     "output_type": "execute_result"
    }
   ],
   "source": [
    "len(df.drop_duplicates(['project']))"
   ]
  },
  {
   "cell_type": "code",
   "execution_count": null,
   "metadata": {},
   "outputs": [],
   "source": []
  }
 ],
 "metadata": {
  "kernelspec": {
   "display_name": "Python 3",
   "language": "python",
   "name": "python3"
  },
  "language_info": {
   "codemirror_mode": {
    "name": "ipython",
    "version": 3
   },
   "file_extension": ".py",
   "mimetype": "text/x-python",
   "name": "python",
   "nbconvert_exporter": "python",
   "pygments_lexer": "ipython3",
   "version": "3.7.3"
  }
 },
 "nbformat": 4,
 "nbformat_minor": 4
}
